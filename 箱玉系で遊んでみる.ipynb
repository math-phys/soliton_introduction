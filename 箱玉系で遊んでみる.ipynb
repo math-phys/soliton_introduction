{
 "cells": [
  {
   "cell_type": "markdown",
   "metadata": {},
   "source": [
    "#### 注意点など\n",
    "\n",
    "* このノートブックは個人で作っている非公開のモジュールを元に必要箇所を抜き出しています。そのため仕様等、分かりにくい部分があるかもしれませんが、ご了承ください。\n",
    "\n",
    "* またテストを行っている環境は非常に限定的です。\n",
    "\n",
    "#### 実行想定環境\n",
    "\n",
    "* python 3.x系を想定\n",
    "\n",
    "* またUbuntu 16.04 LTSでのみ実行を確認\n",
    "\n",
    "* 今回アニメーション作成にはconvertコマンド(Imagemagik)を用いています。Windowsの方は例えばmatplotlibのArtistAnimationを用いてください。\n",
    "\n",
    "#### 必要なパッケージ等\n",
    "\n",
    "* jupyter notebookを使える方は問題ないと思いますが、ipykernel、numpyとmatplotlibが最低限必要です\n",
    "\n",
    "* また後半ではsympyを使います\n",
    "\n",
    "* conda系で管理するのをオススメします\n",
    "    + anacondaを入れて、\n",
    "    > conda create -n (環境名) python=3.6 numpy matplotlib sympy ipykernel\n",
    "    + と実行するだけで、環境ができます\n",
    "\n",
    "* またrequirement.txtファイルも置いてあるので、そちらからpackageを構築することも可能です。"
   ]
  },
  {
   "cell_type": "markdown",
   "metadata": {},
   "source": [
    "#### 復習"
   ]
  },
  {
   "cell_type": "markdown",
   "metadata": {},
   "source": [
    "* 箱玉系の時間発展規則\n",
    "<img src=\"./carrier_explanation.gif\">\n",
    "※注：後で触れる容量制限ありの運搬車を考える際は、実はこの描像は正しくありません。正確には各箱間で、運搬車により移動される玉の個数に対し、制限が課されます。"
   ]
  },
  {
   "cell_type": "code",
   "execution_count": 1,
   "metadata": {
    "collapsed": false
   },
   "outputs": [],
   "source": [
    "# PythonでCバックエンドの配列計算を行うライブラリ\n",
    "import numpy as np\n",
    "# Pythonの有名なプロットツール\n",
    "import matplotlib.pyplot as plt\n",
    "# jupyter notebookでプロット結果をインライン表示するおまじないコマンド\n",
    "%matplotlib inline\n",
    "# 時間関係のモジュール\n",
    "import time"
   ]
  },
  {
   "cell_type": "code",
   "execution_count": 2,
   "metadata": {
    "collapsed": false
   },
   "outputs": [],
   "source": [
    "MAX_DISPLAY_LINES = 300\n",
    "\n",
    "class BoxBall():\n",
    "    # 1色玉\n",
    "    # 運搬車形式\n",
    "    def __init__(self, system_size, carrier_capacity=None, periodic=False, history=False):\n",
    "        \"\"\"\n",
    "            system_size : 系のサイズ\n",
    "            carrier_capacity : 運搬車の容量\n",
    "            periodic : 周期境界条件を課すか、のフラグ\n",
    "            history : 各ステップの状態を保存するか、のフラグ\n",
    "        \"\"\"\n",
    "        self.system_size = system_size\n",
    "        self.periodic = periodic\n",
    "        self.history = history\n",
    "        if carrier_capacity is None:\n",
    "            self.carrier_capacity = system_size\n",
    "        else:\n",
    "            self.carrier_capacity = carrier_capacity\n",
    "        # executable flag\n",
    "        self.enable = False\n",
    "\n",
    "    def set_balls(self, ball_position=None, boxball_state=None, num_ball_restriction = True):\n",
    "        \"\"\"\n",
    "            ball_position : 玉の位置を表す配列\n",
    "            boxball_state : 箱玉の状態を表す配列\n",
    "                ball_positionがNoneの時のみ、有効\n",
    "            num_ball_restriction : ボール数の制限\n",
    "                ※周期系の時、無限ループに入る危険性があるので基本的に True に設定\n",
    "        \"\"\"\n",
    "        if ball_position is not None:\n",
    "            assert type(ball_position) == np.ndarray and ball_position.dtype == np.int\n",
    "            if num_ball_restriction:\n",
    "                assert len(ball_position) <= self.system_size / 2.0\n",
    "            self.boxball = np.zeros(self.system_size, np.bool)\n",
    "            self.boxball[ball_position] = True\n",
    "        else:\n",
    "            assert type(boxball_state) == np.ndarray and len(boxball_state) == self.system_size\n",
    "            # we also require boxball_state.dtype == np.bool.\n",
    "            self.boxball = boxball_state\n",
    "        \n",
    "        self.time = 0\n",
    "        self.enable = True\n",
    "        if self.history:\n",
    "            self.ball_history = [ self.get_ball_positions() ]\n",
    "\n",
    "    def change_carrier_capacity(self, carrier_capacity):\n",
    "        self.carrier_capacity = carrier_capacity\n",
    "        \n",
    "    def get_ball_positions(self):\n",
    "        \"\"\"\n",
    "            箱基準形式から玉基準形式への変換\n",
    "            ＊箱基準形式：010001011011000\n",
    "                ここで 0 : False, 1 : True を表す\n",
    "                各箱の状態をそのまま表したもの\n",
    "            ＊玉基準形式：(1,5,7,8,10,11), L=14\n",
    "                玉の位置を表したもの\n",
    "        \"\"\"\n",
    "        return np.where(self.boxball)[0]\n",
    "    \n",
    "    def __digit_calc(self, N):\n",
    "        # 桁を計算\n",
    "        if N == 0:\n",
    "            return 1\n",
    "        else:\n",
    "            return int(np.log10(N)) + 1\n",
    "        \n",
    "    def update(self, N=10):\n",
    "        \"\"\"\n",
    "            N : 時間発展させるステップ数\n",
    "        \"\"\"\n",
    "        if self.enable == False:\n",
    "            print(\"The current box-ball system state is invalid.\")\n",
    "            return False\n",
    "        for i in range(N):\n",
    "            if self._update() == False:\n",
    "                return False\n",
    "        return True\n",
    "    \n",
    "    def _update(self):\n",
    "        pos_min, pos_max = self.get_ball_positions()[[0,-1]]\n",
    "        num_balls_on_carrier = 0\n",
    "        carrier_position = pos_min\n",
    "        all_collected = False\n",
    "        previous_state = np.copy(self.boxball)\n",
    "        self.time += 1\n",
    "        \n",
    "        while (not all_collected) or num_balls_on_carrier > 0:\n",
    "            if previous_state[carrier_position] == True:\n",
    "                # 封鎖されていない玉が入っている箱で、運搬車の容量に余裕がある場合に積み込み\n",
    "                if num_balls_on_carrier < self.carrier_capacity:\n",
    "                    self.boxball[carrier_position] = False\n",
    "                    num_balls_on_carrier += 1\n",
    "                else:\n",
    "                    self.boxball[carrier_position] = True\n",
    "            #if previous_state[carrier_position] == True and self.boxball[carrier_position] == True and num_balls_on_carrier < self.carrier_capacity:\n",
    "            elif previous_state[carrier_position] == False and num_balls_on_carrier > 0:\n",
    "            #elif previous_state[carrier_position] == False and self.boxball[carrier_position] == False and num_balls_on_carrier > 0:\n",
    "                # 封鎖されていない空の箱で、運搬車に玉が積載されている時に積み下ろし\n",
    "                self.boxball[carrier_position] = True\n",
    "                num_balls_on_carrier -= 1\n",
    "            \n",
    "            if carrier_position == pos_max:\n",
    "                # 全て１度は回収したか、のフラグ\n",
    "                all_collected = True\n",
    "            \n",
    "            if self.periodic == True:\n",
    "                if carrier_position == self.system_size - 1:\n",
    "                    carrier_position = 0\n",
    "                else:\n",
    "                    carrier_position += 1\n",
    "            else:\n",
    "                carrier_position += 1\n",
    "                if carrier_position == self.system_size:\n",
    "                    self.enable = False\n",
    "                    return False\n",
    "\n",
    "        if self.history:\n",
    "            self.ball_history.append( self.get_ball_positions() )\n",
    "        return True\n",
    "    \n",
    "    def _display(self, balls, time, digit=None, rewrite=False):\n",
    "        boxes = np.array([\"□\" for i in range(self.system_size)])\n",
    "        boxes[balls] = \"●\"\n",
    "        if digit is None:\n",
    "            if time == 0:\n",
    "                digit = 1\n",
    "            else:\n",
    "                digit = self.__digit_calc(time)\n",
    "        line = 't = {0:0{1}d} : '.format(time, digit)+\"\".join(list(boxes))\n",
    "        if rewrite:\n",
    "            print(line, end='\\r')\n",
    "        else:\n",
    "            print(line)\n",
    "        \n",
    "    def display(self, history_range=None):\n",
    "        digit = self.__digit_calc(self.time)\n",
    "        if self.history:\n",
    "            if history_range is None:\n",
    "                for time, balls in enumerate(self.ball_history):\n",
    "                    self._display(balls, time, digit)\n",
    "                    if time >= MAX_DISPLAY_LINES:\n",
    "                        print(\"Warning : display {0} lines at most at once\".format(MAX_DISPLAY_LINES))\n",
    "                        break\n",
    "            else:\n",
    "                time_min, time_max = history_range\n",
    "                for time, balls in enumerate(self.ball_history[time_min:time_max+1]):\n",
    "                    self._display(balls, time + time_min, digit)\n",
    "        else:\n",
    "            balls = self.get_ball_positions()\n",
    "            self._display(balls, self.time, digit)\n",
    "\n",
    "    def run(self, total_steps=100, time_interval=300):\n",
    "        digit = self.__digit_calc(self.time + total_steps)\n",
    "        for i in range(total_steps):\n",
    "            time.sleep(time_interval / 1000.0)\n",
    "            self._display(self.get_ball_positions(), self.time, digit, rewrite=True)\n",
    "            #self.time += 1\n",
    "            if self._update() == False:\n",
    "                return False\n",
    "        self._display(self.get_ball_positions(), self.time, digit, rewrite=True)\n",
    "        return True"
   ]
  },
  {
   "cell_type": "markdown",
   "metadata": {
    "collapsed": true
   },
   "source": [
    "### いろいろな初期条件で試してみる"
   ]
  },
  {
   "cell_type": "markdown",
   "metadata": {},
   "source": [
    "#### その１"
   ]
  },
  {
   "cell_type": "markdown",
   "metadata": {},
   "source": [
    "ここでは2が玉あり箱、1が空箱を表すとします。"
   ]
  },
  {
   "cell_type": "code",
   "execution_count": 3,
   "metadata": {
    "collapsed": false
   },
   "outputs": [],
   "source": [
    "state =\"\"\"\n",
    "    12211112222211111111\n",
    "\"\"\"\n",
    "state = state[5:-1]\n",
    "state = np.array([int(i) for i in list(state)])"
   ]
  },
  {
   "cell_type": "code",
   "execution_count": 4,
   "metadata": {
    "collapsed": false
   },
   "outputs": [
    {
     "name": "stdout",
     "output_type": "stream",
     "text": [
      "t = 0 : □●●□□□□●●●●●□□□□□□□□\n"
     ]
    }
   ],
   "source": [
    "system = BoxBall(system_size=len(state), periodic=True, history=True)\n",
    "system.set_balls(boxball_state=state==2)\n",
    "# 初期状態を表示\n",
    "system.display()"
   ]
  },
  {
   "cell_type": "markdown",
   "metadata": {},
   "source": [
    "※途中で止める場合は、Escキーを押した後、iキーを2度連続で押してください"
   ]
  },
  {
   "cell_type": "code",
   "execution_count": 5,
   "metadata": {
    "collapsed": false
   },
   "outputs": [
    {
     "name": "stdout",
     "output_type": "stream",
     "text": [
      "t = 50 : □□□□□●●●●●□□□●●□□□□□\r"
     ]
    },
    {
     "data": {
      "text/plain": [
       "True"
      ]
     },
     "execution_count": 5,
     "metadata": {},
     "output_type": "execute_result"
    }
   ],
   "source": [
    "system.run(total_steps=50, time_interval=500)"
   ]
  },
  {
   "cell_type": "markdown",
   "metadata": {},
   "source": [
    "続ける事も可能です。またtime_interval (ミリ秒)を指定する事で更新間隔を指定できます"
   ]
  },
  {
   "cell_type": "code",
   "execution_count": 6,
   "metadata": {
    "collapsed": false
   },
   "outputs": [
    {
     "name": "stdout",
     "output_type": "stream",
     "text": [
      "t = 100 : □●●□□□□●●●●●□□□□□□□□\r"
     ]
    },
    {
     "data": {
      "text/plain": [
       "True"
      ]
     },
     "execution_count": 6,
     "metadata": {},
     "output_type": "execute_result"
    }
   ],
   "source": [
    "system.run(total_steps=50, time_interval=300)"
   ]
  },
  {
   "cell_type": "markdown",
   "metadata": {},
   "source": [
    "#### その２"
   ]
  },
  {
   "cell_type": "code",
   "execution_count": 7,
   "metadata": {
    "collapsed": false
   },
   "outputs": [],
   "source": [
    "state =\"\"\"\n",
    "    12211112222211111222111112211\n",
    "\"\"\"\n",
    "state = state[5:-1]\n",
    "state = np.array([int(i) for i in list(state)])"
   ]
  },
  {
   "cell_type": "code",
   "execution_count": 8,
   "metadata": {
    "collapsed": false
   },
   "outputs": [
    {
     "name": "stdout",
     "output_type": "stream",
     "text": [
      "t = 0 : □●●□□□□●●●●●□□□□□●●●□□□□□●●□□\n"
     ]
    }
   ],
   "source": [
    "system = BoxBall(system_size=len(state), periodic=True, history=True)\n",
    "system.set_balls(boxball_state=state==2)\n",
    "# 初期状態を表示\n",
    "system.display()"
   ]
  },
  {
   "cell_type": "markdown",
   "metadata": {},
   "source": [
    "※途中で止める場合は、Escキーを押した後、iキーを2度連続で押してください"
   ]
  },
  {
   "cell_type": "code",
   "execution_count": 9,
   "metadata": {
    "collapsed": false
   },
   "outputs": [
    {
     "name": "stdout",
     "output_type": "stream",
     "text": [
      "t = 100 : □□□□□□●●●●●□□□●●□□●●●□□●●□□□□\r"
     ]
    },
    {
     "data": {
      "text/plain": [
       "True"
      ]
     },
     "execution_count": 9,
     "metadata": {},
     "output_type": "execute_result"
    }
   ],
   "source": [
    "system.run(total_steps=100, time_interval=500)"
   ]
  },
  {
   "cell_type": "markdown",
   "metadata": {},
   "source": [
    "#### その３"
   ]
  },
  {
   "cell_type": "code",
   "execution_count": 10,
   "metadata": {
    "collapsed": false
   },
   "outputs": [],
   "source": [
    "state =\"\"\"\n",
    "    111122221111111111122111211111\n",
    "\"\"\"\n",
    "state = state[5:-1]\n",
    "state = np.array([int(i) for i in list(state)])"
   ]
  },
  {
   "cell_type": "code",
   "execution_count": 11,
   "metadata": {
    "collapsed": false
   },
   "outputs": [
    {
     "name": "stdout",
     "output_type": "stream",
     "text": [
      "t = 0 : □□□□●●●●□□□□□□□□□□□●●□□□●□□□□□\n"
     ]
    }
   ],
   "source": [
    "system = BoxBall(system_size=len(state), periodic=True, history=True)\n",
    "system.set_balls(boxball_state=state==2)\n",
    "# 初期状態を表示\n",
    "system.display()"
   ]
  },
  {
   "cell_type": "markdown",
   "metadata": {},
   "source": [
    "今度は時間発展規則をもう少しだけ見やすくするため、並べて表示してみましょう"
   ]
  },
  {
   "cell_type": "code",
   "execution_count": 12,
   "metadata": {
    "collapsed": false,
    "scrolled": false
   },
   "outputs": [
    {
     "name": "stdout",
     "output_type": "stream",
     "text": [
      "t = 00 : □□□□●●●●□□□□□□□□□□□●●□□□●□□□□□\n",
      "t = 01 : □□□□□□□□●●●●□□□□□□□□□●●□□●□□□□\n",
      "t = 02 : □□□□□□□□□□□□●●●●□□□□□□□●●□●□□□\n",
      "t = 03 : □□□□□□□□□□□□□□□□●●●●□□□□□●□●●□\n",
      "t = 04 : ●□□□□□□□□□□□□□□□□□□□●●●●□□●□□●\n",
      "t = 05 : □●●●□□□□□□□□□□□□□□□□□□□□●●□●●□\n",
      "t = 06 : ●□□□●●●●□□□□□□□□□□□□□□□□□□●□□●\n",
      "t = 07 : □●●□□□□□●●●●□□□□□□□□□□□□□□□●□□\n",
      "t = 08 : □□□●●□□□□□□□●●●●□□□□□□□□□□□□●□\n",
      "t = 09 : □□□□□●●□□□□□□□□□●●●●□□□□□□□□□●\n",
      "t = 10 : ●□□□□□□●●□□□□□□□□□□□●●●●□□□□□□\n",
      "t = 11 : □●□□□□□□□●●□□□□□□□□□□□□□●●●●□□\n",
      "t = 12 : ●□●●□□□□□□□●●□□□□□□□□□□□□□□□●●\n",
      "t = 13 : □●□□●●●●□□□□□●●□□□□□□□□□□□□□□□\n",
      "t = 14 : □□●□□□□□●●●●□□□●●□□□□□□□□□□□□□\n",
      "t = 15 : □□□●□□□□□□□□●●●□□●●●□□□□□□□□□□\n",
      "t = 16 : □□□□●□□□□□□□□□□●●□□□●●●●□□□□□□\n",
      "t = 17 : □□□□□●□□□□□□□□□□□●●□□□□□●●●●□□\n",
      "t = 18 : ●●□□□□●□□□□□□□□□□□□●●□□□□□□□●●\n",
      "t = 19 : □□●●●●□●□□□□□□□□□□□□□●●□□□□□□□\n",
      "t = 20 : □□□□□□●□●●●●□□□□□□□□□□□●●□□□□□\n",
      "t = 21 : □□□□□□□●□□□□●●●●□□□□□□□□□●●□□□\n",
      "t = 22 : □□□□□□□□●□□□□□□□●●●●□□□□□□□●●□\n",
      "t = 23 : ●□□□□□□□□●□□□□□□□□□□●●●●□□□□□●\n",
      "t = 24 : □●●□□□□□□□●□□□□□□□□□□□□□●●●●□□\n",
      "t = 25 : ●□□●●●□□□□□●□□□□□□□□□□□□□□□□●●\n",
      "t = 26 : □●●□□□●●●●□□●□□□□□□□□□□□□□□□□□\n",
      "t = 27 : □□□●●□□□□□●●□●●●□□□□□□□□□□□□□□\n",
      "t = 28 : □□□□□●●□□□□□●□□□●●●●□□□□□□□□□□\n",
      "t = 29 : □□□□□□□●●□□□□●□□□□□□●●●●□□□□□□\n",
      "t = 30 : □□□□□□□□□●●□□□●□□□□□□□□□●●●●□□\n",
      "t = 31 : ●●□□□□□□□□□●●□□●□□□□□□□□□□□□●●\n",
      "t = 32 : □□●●●●□□□□□□□●●□●□□□□□□□□□□□□□\n",
      "t = 33 : □□□□□□●●●●□□□□□●□●●□□□□□□□□□□□\n",
      "t = 34 : □□□□□□□□□□●●●●□□●□□●●□□□□□□□□□\n",
      "t = 35 : □□□□□□□□□□□□□□●●□●●□□●●●□□□□□□\n",
      "t = 36 : □□□□□□□□□□□□□□□□●□□●●□□□●●●●□□\n",
      "t = 37 : ●●□□□□□□□□□□□□□□□●□□□●●□□□□□●●\n",
      "t = 38 : □□●●●●□□□□□□□□□□□□●□□□□●●□□□□□\n",
      "t = 39 : □□□□□□●●●●□□□□□□□□□●□□□□□●●□□□\n",
      "t = 40 : □□□□□□□□□□●●●●□□□□□□●□□□□□□●●□\n",
      "t = 41 : ●□□□□□□□□□□□□□●●●●□□□●□□□□□□□●\n",
      "t = 42 : □●●□□□□□□□□□□□□□□□●●●□●●□□□□□□\n",
      "t = 43 : □□□●●□□□□□□□□□□□□□□□□●□□●●●●□□\n",
      "t = 44 : ●●□□□●●□□□□□□□□□□□□□□□●□□□□□●●\n",
      "t = 45 : □□●●●□□●●●□□□□□□□□□□□□□●□□□□□□\n",
      "t = 46 : □□□□□●●□□□●●●●□□□□□□□□□□●□□□□□\n",
      "t = 47 : □□□□□□□●●□□□□□●●●●□□□□□□□●□□□□\n",
      "t = 48 : □□□□□□□□□●●□□□□□□□●●●●□□□□●□□□\n",
      "t = 49 : □□□□□□□□□□□●●□□□□□□□□□●●●●□●□□\n",
      "t = 50 : ●●□□□□□□□□□□□●●□□□□□□□□□□□●□●●\n"
     ]
    }
   ],
   "source": [
    "# 50ステップ更新\n",
    "system.update(50)\n",
    "# 結果の表示\n",
    "system.display()"
   ]
  },
  {
   "cell_type": "markdown",
   "metadata": {},
   "source": [
    "#### その４"
   ]
  },
  {
   "cell_type": "code",
   "execution_count": 13,
   "metadata": {
    "collapsed": false
   },
   "outputs": [],
   "source": [
    "state =\"\"\"\n",
    "    1112211121111221122221111111\n",
    "\"\"\"\n",
    "state = state[5:-1]\n",
    "state = np.array([int(i) for i in list(state)])"
   ]
  },
  {
   "cell_type": "code",
   "execution_count": 14,
   "metadata": {
    "collapsed": false
   },
   "outputs": [
    {
     "name": "stdout",
     "output_type": "stream",
     "text": [
      "t = 0 : □□□●●□□□●□□□□●●□□●●●●□□□□□□□\n"
     ]
    }
   ],
   "source": [
    "system = BoxBall(system_size=len(state), periodic=True, history=True)\n",
    "system.set_balls(boxball_state=state==2)\n",
    "# 初期状態を表示\n",
    "system.display()"
   ]
  },
  {
   "cell_type": "code",
   "execution_count": 15,
   "metadata": {
    "collapsed": false,
    "scrolled": false
   },
   "outputs": [
    {
     "name": "stdout",
     "output_type": "stream",
     "text": [
      "t = 00 : □□□●●□□□●□□□□●●□□●●●●□□□□□□□\n",
      "t = 01 : □□□□□●●□□●□□□□□●●□□□□●●●●□□□\n",
      "t = 02 : ●□□□□□□●●□●□□□□□□●●□□□□□□●●●\n",
      "t = 03 : □●●●●□□□□●□●●□□□□□□●●□□□□□□□\n",
      "t = 04 : □□□□□●●●●□●□□●●□□□□□□●●□□□□□\n",
      "t = 05 : □□□□□□□□□●□●●□□●●●●□□□□●●□□□\n",
      "t = 06 : □□□□□□□□□□●□□●●□□□□●●●●□□●●□\n",
      "t = 07 : ●●●□□□□□□□□●□□□●●□□□□□□●●□□●\n",
      "t = 08 : □□□●●●●□□□□□●□□□□●●□□□□□□●●□\n",
      "t = 09 : ●□□□□□□●●●●□□●□□□□□●●□□□□□□●\n",
      "t = 10 : □●●□□□□□□□□●●□●●●□□□□●●□□□□□\n",
      "t = 11 : □□□●●□□□□□□□□●□□□●●●●□□●●□□□\n",
      "t = 12 : ●□□□□●●□□□□□□□●□□□□□□●●□□●●●\n",
      "t = 13 : □●●●●□□●●□□□□□□●□□□□□□□●●□□□\n",
      "t = 14 : □□□□□●●□□●●●●□□□●□□□□□□□□●●□\n",
      "t = 15 : ●□□□□□□●●□□□□●●●□●●□□□□□□□□●\n",
      "t = 16 : □●●□□□□□□●●□□□□□●□□●●●●□□□□□\n",
      "t = 17 : □□□●●□□□□□□●●□□□□●□□□□□●●●●□\n",
      "t = 18 : ●●●□□●●□□□□□□●●□□□●□□□□□□□□●\n",
      "t = 19 : □□□●●□□●●●●□□□□●●□□●□□□□□□□□\n",
      "t = 20 : □□□□□●●□□□□●●●●□□●●□●□□□□□□□\n",
      "t = 21 : □□□□□□□●●□□□□□□●●□□●□●●●●□□□\n",
      "t = 22 : ●□□□□□□□□●●□□□□□□●●□●□□□□●●●\n",
      "t = 23 : □●●●●□□□□□□●●□□□□□□●□●●□□□□□\n",
      "t = 24 : □□□□□●●●●□□□□●●□□□□□●□□●●□□□\n",
      "t = 25 : □□□□□□□□□●●●●□□●●□□□□●□□□●●□\n",
      "t = 26 : ●□□□□□□□□□□□□●●□□●●●●□●□□□□●\n",
      "t = 27 : □●●□□□□□□□□□□□□●●□□□□●□●●●●□\n",
      "t = 28 : ●□□●●●●□□□□□□□□□□●●□□□●□□□□●\n",
      "t = 29 : □●●□□□□●●●●□□□□□□□□●●□□●□□□□\n",
      "t = 30 : □□□●●□□□□□□●●●●□□□□□□●●□●□□□\n",
      "t = 31 : □□□□□●●□□□□□□□□●●●●□□□□●□●●□\n",
      "t = 32 : ●□□□□□□●●□□□□□□□□□□●●●●□●□□●\n",
      "t = 33 : □●●●●□□□□●●□□□□□□□□□□□□●□●●□\n",
      "t = 34 : ●□□□□●●●●□□●●□□□□□□□□□□□●□□●\n",
      "t = 35 : □●●□□□□□□●●□□●●●●□□□□□□□□●□□\n",
      "t = 36 : □□□●●□□□□□□●●□□□□●●●●□□□□□●□\n",
      "t = 37 : □□□□□●●□□□□□□●●□□□□□□●●●●□□●\n",
      "t = 38 : ●●●□□□□●●□□□□□□●●□□□□□□□□●●□\n",
      "t = 39 : □□□●●●●□□●●□□□□□□●●□□□□□□□□●\n",
      "t = 40 : ●□□□□□□●●□□●●●●□□□□●●□□□□□□□\n",
      "t = 41 : □●□□□□□□□●●□□□□●●●●□□●●□□□□□\n",
      "t = 42 : □□●□□□□□□□□●●□□□□□□●●□□●●●●□\n",
      "t = 43 : ●●□●●□□□□□□□□●●□□□□□□●●□□□□●\n",
      "t = 44 : □□●□□●●●●□□□□□□●●□□□□□□●●□□□\n",
      "t = 45 : □□□●□□□□□●●●●□□□□●●□□□□□□●●□\n",
      "t = 46 : ●□□□●□□□□□□□□●●●●□□●●□□□□□□●\n",
      "t = 47 : □●●□□●□□□□□□□□□□□●●□□●●●●□□□\n",
      "t = 48 : ●□□●●□●□□□□□□□□□□□□●●□□□□●●●\n",
      "t = 49 : □●●□□●□●●●●□□□□□□□□□□●●□□□□□\n",
      "t = 50 : □□□●●□●□□□□●●●●□□□□□□□□●●□□□\n"
     ]
    }
   ],
   "source": [
    "# 50ステップ更新\n",
    "system.update(50)\n",
    "# 結果の表示\n",
    "system.display()"
   ]
  },
  {
   "cell_type": "markdown",
   "metadata": {},
   "source": [
    "#### その５"
   ]
  },
  {
   "cell_type": "markdown",
   "metadata": {},
   "source": [
    "今度は周期境界条件を外してみます"
   ]
  },
  {
   "cell_type": "code",
   "execution_count": 16,
   "metadata": {
    "collapsed": false
   },
   "outputs": [],
   "source": [
    "state =\"\"\"\n",
    "    1222221111221111111112221111121111111111111111111\n",
    "\"\"\"\n",
    "state = state[5:-1]\n",
    "state = np.array([int(i) for i in list(state)])"
   ]
  },
  {
   "cell_type": "code",
   "execution_count": 17,
   "metadata": {
    "collapsed": false
   },
   "outputs": [
    {
     "name": "stdout",
     "output_type": "stream",
     "text": [
      "t = 0 : □●●●●●□□□□●●□□□□□□□□□●●●□□□□□●□□□□□□□□□□□□□□□□□□□\n"
     ]
    }
   ],
   "source": [
    "system = BoxBall(system_size=len(state), periodic=False, history=True)\n",
    "system.set_balls(boxball_state=state==2)\n",
    "# 初期状態を表示\n",
    "system.display()"
   ]
  },
  {
   "cell_type": "code",
   "execution_count": 18,
   "metadata": {
    "collapsed": false,
    "scrolled": false
   },
   "outputs": [
    {
     "name": "stdout",
     "output_type": "stream",
     "text": [
      "t = 0 : □●●●●●□□□□●●□□□□□□□□□●●●□□□□□●□□□□□□□□□□□□□□□□□□□\n",
      "t = 1 : □□□□□□●●●●□□●●●□□□□□□□□□●●●□□□●□□□□□□□□□□□□□□□□□□\n",
      "t = 2 : □□□□□□□□□□●●□□□●●●●●□□□□□□□●●●□●□□□□□□□□□□□□□□□□□\n",
      "t = 3 : □□□□□□□□□□□□●●□□□□□□●●●●●□□□□□●□●●●□□□□□□□□□□□□□□\n",
      "t = 4 : □□□□□□□□□□□□□□●●□□□□□□□□□●●●●●□●□□□●●●□□□□□□□□□□□\n",
      "t = 5 : □□□□□□□□□□□□□□□□●●□□□□□□□□□□□□●□●●●□□□●●●●●□□□□□□\n",
      "t = 6 : □□□□□□□□□□□□□□□□□□●●□□□□□□□□□□□●□□□●●●□□□□□●●●●●□\n"
     ]
    }
   ],
   "source": [
    "# 20ステップ更新\n",
    "system.update(20)\n",
    "# 結果の表示\n",
    "system.display()"
   ]
  },
  {
   "cell_type": "markdown",
   "metadata": {},
   "source": [
    "無限系を計算機に直接載せらないので、ここでははみ出しそうになったら、止めています"
   ]
  },
  {
   "cell_type": "markdown",
   "metadata": {},
   "source": [
    "### 容量制限あり運搬車の場合"
   ]
  },
  {
   "cell_type": "code",
   "execution_count": 19,
   "metadata": {
    "collapsed": false
   },
   "outputs": [],
   "source": [
    "state =\"\"\"\n",
    "    11122221111111221111111\n",
    "\"\"\"\n",
    "state = state[5:-1]\n",
    "state = np.array([int(i) for i in list(state)])"
   ]
  },
  {
   "cell_type": "markdown",
   "metadata": {},
   "source": [
    "今度は運搬車の積載容量を2にしてみましょう"
   ]
  },
  {
   "cell_type": "code",
   "execution_count": 20,
   "metadata": {
    "collapsed": false
   },
   "outputs": [
    {
     "name": "stdout",
     "output_type": "stream",
     "text": [
      "t = 0 : □□□●●●●□□□□□□□●●□□□□□□□\n"
     ]
    }
   ],
   "source": [
    "system = BoxBall(system_size=len(state), carrier_capacity=2, periodic=True, history=True)\n",
    "system.set_balls(boxball_state=state==2)\n",
    "# 初期状態を表示\n",
    "system.display()"
   ]
  },
  {
   "cell_type": "code",
   "execution_count": 21,
   "metadata": {
    "collapsed": false,
    "scrolled": false
   },
   "outputs": [
    {
     "name": "stdout",
     "output_type": "stream",
     "text": [
      "t = 00 : □□□●●●●□□□□□□□●●□□□□□□□\n",
      "t = 01 : □□□□□●●●●□□□□□□□●●□□□□□\n",
      "t = 02 : □□□□□□□●●●●□□□□□□□●●□□□\n",
      "t = 03 : □□□□□□□□□●●●●□□□□□□□●●□\n",
      "t = 04 : ●□□□□□□□□□□●●●●□□□□□□□●\n",
      "t = 05 : □●●□□□□□□□□□□●●●●□□□□□□\n",
      "t = 06 : □□□●●□□□□□□□□□□●●●●□□□□\n",
      "t = 07 : □□□□□●●□□□□□□□□□□●●●●□□\n",
      "t = 08 : □□□□□□□●●□□□□□□□□□□●●●●\n",
      "t = 09 : ●●□□□□□□□●●□□□□□□□□□□●●\n",
      "t = 10 : ●●●●□□□□□□□●●□□□□□□□□□□\n",
      "t = 11 : □□●●●●□□□□□□□●●□□□□□□□□\n",
      "t = 12 : □□□□●●●●□□□□□□□●●□□□□□□\n",
      "t = 13 : □□□□□□●●●●□□□□□□□●●□□□□\n",
      "t = 14 : □□□□□□□□●●●●□□□□□□□●●□□\n",
      "t = 15 : □□□□□□□□□□●●●●□□□□□□□●●\n",
      "t = 16 : ●●□□□□□□□□□□●●●●□□□□□□□\n",
      "t = 17 : □□●●□□□□□□□□□□●●●●□□□□□\n",
      "t = 18 : □□□□●●□□□□□□□□□□●●●●□□□\n",
      "t = 19 : □□□□□□●●□□□□□□□□□□●●●●□\n",
      "t = 20 : ●□□□□□□□●●□□□□□□□□□□●●●\n",
      "t = 21 : ●●●□□□□□□□●●□□□□□□□□□□●\n",
      "t = 22 : □●●●●□□□□□□□●●□□□□□□□□□\n",
      "t = 23 : □□□●●●●□□□□□□□●●□□□□□□□\n",
      "t = 24 : □□□□□●●●●□□□□□□□●●□□□□□\n",
      "t = 25 : □□□□□□□●●●●□□□□□□□●●□□□\n",
      "t = 26 : □□□□□□□□□●●●●□□□□□□□●●□\n",
      "t = 27 : ●□□□□□□□□□□●●●●□□□□□□□●\n",
      "t = 28 : □●●□□□□□□□□□□●●●●□□□□□□\n",
      "t = 29 : □□□●●□□□□□□□□□□●●●●□□□□\n",
      "t = 30 : □□□□□●●□□□□□□□□□□●●●●□□\n",
      "t = 31 : □□□□□□□●●□□□□□□□□□□●●●●\n",
      "t = 32 : ●●□□□□□□□●●□□□□□□□□□□●●\n",
      "t = 33 : ●●●●□□□□□□□●●□□□□□□□□□□\n",
      "t = 34 : □□●●●●□□□□□□□●●□□□□□□□□\n",
      "t = 35 : □□□□●●●●□□□□□□□●●□□□□□□\n",
      "t = 36 : □□□□□□●●●●□□□□□□□●●□□□□\n",
      "t = 37 : □□□□□□□□●●●●□□□□□□□●●□□\n",
      "t = 38 : □□□□□□□□□□●●●●□□□□□□□●●\n",
      "t = 39 : ●●□□□□□□□□□□●●●●□□□□□□□\n",
      "t = 40 : □□●●□□□□□□□□□□●●●●□□□□□\n",
      "t = 41 : □□□□●●□□□□□□□□□□●●●●□□□\n",
      "t = 42 : □□□□□□●●□□□□□□□□□□●●●●□\n",
      "t = 43 : ●□□□□□□□●●□□□□□□□□□□●●●\n",
      "t = 44 : ●●●□□□□□□□●●□□□□□□□□□□●\n",
      "t = 45 : □●●●●□□□□□□□●●□□□□□□□□□\n",
      "t = 46 : □□□●●●●□□□□□□□●●□□□□□□□\n",
      "t = 47 : □□□□□●●●●□□□□□□□●●□□□□□\n",
      "t = 48 : □□□□□□□●●●●□□□□□□□●●□□□\n",
      "t = 49 : □□□□□□□□□●●●●□□□□□□□●●□\n",
      "t = 50 : ●□□□□□□□□□□●●●●□□□□□□□●\n"
     ]
    }
   ],
   "source": [
    "# 50ステップ更新\n",
    "system.update(50)\n",
    "# 結果の表示\n",
    "system.display()"
   ]
  },
  {
   "cell_type": "markdown",
   "metadata": {},
   "source": [
    "速さが遅くなって、振る舞いが少し変わりました"
   ]
  },
  {
   "cell_type": "markdown",
   "metadata": {},
   "source": [
    "今度は運搬車の容量を途中で変えてみましょう。"
   ]
  },
  {
   "cell_type": "code",
   "execution_count": 22,
   "metadata": {
    "collapsed": false
   },
   "outputs": [],
   "source": [
    "state =\"\"\"\n",
    "    22221112211111212111111222\n",
    "\"\"\"\n",
    "state = state[5:-1]\n",
    "state = np.array([int(i) for i in list(state)])"
   ]
  },
  {
   "cell_type": "markdown",
   "metadata": {},
   "source": [
    "まず最初の10ステップは容量2で、次の10ステップは容量無限大(実装上は系のサイズで置き換え)で時間発展させた後の状態を見てみましょう"
   ]
  },
  {
   "cell_type": "code",
   "execution_count": 23,
   "metadata": {
    "collapsed": false
   },
   "outputs": [
    {
     "name": "stdout",
     "output_type": "stream",
     "text": [
      "t = 20 : ●□□□□□□□□●●□□□□●●●●●●●□□●□\n"
     ]
    }
   ],
   "source": [
    "system = BoxBall(system_size=len(state), carrier_capacity=2, periodic=True, history=True)\n",
    "system.set_balls(boxball_state=state==2)\n",
    "system.update(10)\n",
    "system.change_carrier_capacity(len(state))\n",
    "system.update(10)\n",
    "system.display(history_range=(20,20))"
   ]
  },
  {
   "cell_type": "markdown",
   "metadata": {},
   "source": [
    "今度は先と逆に、容量無限大、容量2の順番で10ステップずつ時間発展させてみましょう"
   ]
  },
  {
   "cell_type": "code",
   "execution_count": 24,
   "metadata": {
    "collapsed": false
   },
   "outputs": [
    {
     "name": "stdout",
     "output_type": "stream",
     "text": [
      "t = 20 : ●□□□□□□□□●●□□□□●●●●●●●□□●□\n"
     ]
    }
   ],
   "source": [
    "system = BoxBall(system_size=len(state), periodic=True, history=True)\n",
    "system.set_balls(boxball_state=state==2)\n",
    "system.update(10)\n",
    "system.change_carrier_capacity(2)\n",
    "system.update(10)\n",
    "system.display(history_range=(20,20))"
   ]
  },
  {
   "cell_type": "markdown",
   "metadata": {},
   "source": [
    "初期状態を変えて同じ事をやってみますが、今度は切り替えるタイミングの状態もついでに見てみましょう"
   ]
  },
  {
   "cell_type": "code",
   "execution_count": 25,
   "metadata": {
    "collapsed": false
   },
   "outputs": [],
   "source": [
    "state =\"\"\"\n",
    "    1212111212111112112122222\n",
    "\"\"\"\n",
    "state = state[5:-1]\n",
    "state = np.array([int(i) for i in list(state)])"
   ]
  },
  {
   "cell_type": "code",
   "execution_count": 26,
   "metadata": {
    "collapsed": false
   },
   "outputs": [
    {
     "name": "stdout",
     "output_type": "stream",
     "text": [
      "容量2,∞の順番\n",
      "t = 10 : ●●□●●●●□□●□●□□□●□●□□□□□●□\n",
      "t = 20 : ●□●□□●□□□□□●□●□□□●□●□●●●●\n",
      "容量∞,2の順番\n",
      "t = 10 : □□□●□●□□□●□●□□●●●●□●●□●□□\n",
      "t = 20 : ●□●□□●□□□□□●□●□□□●□●□●●●●\n"
     ]
    }
   ],
   "source": [
    "print(\"容量2,∞の順番\")\n",
    "system = BoxBall(system_size=len(state), carrier_capacity=2, periodic=True, history=True)\n",
    "system.set_balls(boxball_state=state==2)\n",
    "system.update(10)\n",
    "system.display(history_range=(10,10))\n",
    "system.change_carrier_capacity(len(state))\n",
    "system.update(10)\n",
    "system.display(history_range=(20,20))\n",
    "\n",
    "print(\"容量∞,2の順番\")\n",
    "system = BoxBall(system_size=len(state), periodic=True, history=True)\n",
    "system.set_balls(boxball_state=state==2)\n",
    "system.update(10)\n",
    "system.display(history_range=(10,10))\n",
    "system.change_carrier_capacity(2)\n",
    "system.update(10)\n",
    "system.display(history_range=(20,20))"
   ]
  },
  {
   "cell_type": "markdown",
   "metadata": {},
   "source": [
    "最終状態は同じですね。さらに同じ初期状態で、今度は容量1,3を切り替えてみます。"
   ]
  },
  {
   "cell_type": "code",
   "execution_count": 27,
   "metadata": {
    "collapsed": false
   },
   "outputs": [],
   "source": [
    "state =\"\"\"\n",
    "    1212111212111112112122222\n",
    "\"\"\"\n",
    "state = state[5:-1]\n",
    "state = np.array([int(i) for i in list(state)])"
   ]
  },
  {
   "cell_type": "code",
   "execution_count": 28,
   "metadata": {
    "collapsed": false
   },
   "outputs": [
    {
     "name": "stdout",
     "output_type": "stream",
     "text": [
      "容量1,4の順番\n",
      "t = 10 : ●□□●□●●●●●□●□●□□□●□●□□□□□\n",
      "t = 20 : □□●●●□●●□●●□□□□●□●□□□●□●□\n",
      "容量4,1の順番\n",
      "t = 10 : ●□□□□●□●□□□●□●□□□●●●□●●□●\n",
      "t = 20 : □□●●●□●●□●●□□□□●□●□□□●□●□\n"
     ]
    }
   ],
   "source": [
    "print(\"容量1,4の順番\")\n",
    "system = BoxBall(system_size=len(state), carrier_capacity=1, periodic=True, history=True)\n",
    "system.set_balls(boxball_state=state==2)\n",
    "system.update(10)\n",
    "system.display(history_range=(10,10))\n",
    "system.change_carrier_capacity(4)\n",
    "system.update(10)\n",
    "system.display(history_range=(20,20))\n",
    "\n",
    "print(\"容量4,1の順番\")\n",
    "system = BoxBall(system_size=len(state), carrier_capacity=4, periodic=True, history=True)\n",
    "system.set_balls(boxball_state=state==2)\n",
    "system.update(10)\n",
    "system.display(history_range=(10,10))\n",
    "system.change_carrier_capacity(1)\n",
    "system.update(10)\n",
    "system.display(history_range=(20,20))"
   ]
  },
  {
   "cell_type": "markdown",
   "metadata": {},
   "source": [
    "やはり結果は同じです。しかしながら途中の状態は当然ですが、異なる事が分かります。"
   ]
  },
  {
   "cell_type": "markdown",
   "metadata": {},
   "source": [
    "実は容量$k$の運搬車による時間発展規則を$T_k$とおくと、これは演算子等式$T_{i} \\circ T_{j} = T_{j} \\circ T_{i}$が任意の正の整数$i,j$について成立し、上記結果はその帰結です。<br>\n",
    "これは(可算)無限個の、互いに可換な演算子が存在する事を意味し、まさに通常の可積分系の特徴そのものです。"
   ]
  },
  {
   "cell_type": "markdown",
   "metadata": {},
   "source": [
    "### 保存量の計算"
   ]
  },
  {
   "cell_type": "code",
   "execution_count": 29,
   "metadata": {
    "collapsed": true
   },
   "outputs": [],
   "source": [
    "def _remove(state):\n",
    "    size = len(state)\n",
    "    ball_pos = np.where(state)[0]\n",
    "    ball_pos_period = np.concatenate([ ball_pos, np.array([ball_pos[0] + size]) ])\n",
    "\n",
    "    removed_pos = ball_pos_period[np.where(np.diff(ball_pos_period) > 1)[0]]\n",
    "    p = len(removed_pos)\n",
    "    if removed_pos[-1] == size-1:\n",
    "        removed_pos = np.concatenate([np.array([0]), removed_pos, removed_pos[:-1] + 1])\n",
    "    else:\n",
    "        removed_pos = np.concatenate([removed_pos, removed_pos + 1])\n",
    "    num_balls_left = len(ball_pos) - p\n",
    "\n",
    "    retained_pos = np.ones(size, np.bool)\n",
    "    retained_pos[removed_pos] = False\n",
    "    \n",
    "    return state[retained_pos], num_balls_left, p\n",
    "\n",
    "def ball2box(ball_position, system_size):\n",
    "    boxball = np.zeros(system_size, np.bool)\n",
    "    boxball[ball_position] = True\n",
    "    return boxball\n",
    "\n",
    "def conserved_quantity(state):\n",
    "    conserved_quantity = []\n",
    "    num_balls = np.sum(state)\n",
    "    while num_balls > 0:\n",
    "        state, num_balls, p = _remove(state)\n",
    "        conserved_quantity.append(p)\n",
    "    return conserved_quantity"
   ]
  },
  {
   "cell_type": "code",
   "execution_count": 30,
   "metadata": {
    "collapsed": false
   },
   "outputs": [],
   "source": [
    "state =\"\"\"\n",
    "    1212111212111112112122222\n",
    "\"\"\"\n",
    "state = state[5:-1]\n",
    "state = np.array([int(i) for i in list(state)])"
   ]
  },
  {
   "cell_type": "code",
   "execution_count": 31,
   "metadata": {
    "collapsed": false
   },
   "outputs": [
    {
     "data": {
      "text/plain": [
       "True"
      ]
     },
     "execution_count": 31,
     "metadata": {},
     "output_type": "execute_result"
    }
   ],
   "source": [
    "system = BoxBall(system_size=len(state), carrier_capacity=2, periodic=True, history=True)\n",
    "system.set_balls(boxball_state=state==2)\n",
    "system.update(20)"
   ]
  },
  {
   "cell_type": "markdown",
   "metadata": {},
   "source": [
    "保存量が各時刻で同じ事を確認。ここで保存量はYoung図形と呼ばれる、正の整数の非増大列(pythonの言葉ではリスト)である事に注意してください。"
   ]
  },
  {
   "cell_type": "code",
   "execution_count": 32,
   "metadata": {
    "collapsed": false
   },
   "outputs": [
    {
     "name": "stdout",
     "output_type": "stream",
     "text": [
      "0 [7, 1, 1, 1, 1]\n",
      "1 [7, 1, 1, 1, 1]\n",
      "2 [7, 1, 1, 1, 1]\n",
      "3 [7, 1, 1, 1, 1]\n",
      "4 [7, 1, 1, 1, 1]\n",
      "5 [7, 1, 1, 1, 1]\n",
      "6 [7, 1, 1, 1, 1]\n",
      "7 [7, 1, 1, 1, 1]\n",
      "8 [7, 1, 1, 1, 1]\n",
      "9 [7, 1, 1, 1, 1]\n",
      "10 [7, 1, 1, 1, 1]\n",
      "11 [7, 1, 1, 1, 1]\n",
      "12 [7, 1, 1, 1, 1]\n",
      "13 [7, 1, 1, 1, 1]\n",
      "14 [7, 1, 1, 1, 1]\n",
      "15 [7, 1, 1, 1, 1]\n",
      "16 [7, 1, 1, 1, 1]\n",
      "17 [7, 1, 1, 1, 1]\n",
      "18 [7, 1, 1, 1, 1]\n",
      "19 [7, 1, 1, 1, 1]\n",
      "20 [7, 1, 1, 1, 1]\n"
     ]
    }
   ],
   "source": [
    "for t, ball_pos in enumerate(system.ball_history):\n",
    "    print(t, conserved_quantity( ball2box(ball_pos, system.system_size) ))"
   ]
  },
  {
   "cell_type": "markdown",
   "metadata": {},
   "source": [
    "時間発展で不変なことが分かります。"
   ]
  },
  {
   "cell_type": "markdown",
   "metadata": {},
   "source": [
    "### 基本周期を計算してみる"
   ]
  },
  {
   "cell_type": "code",
   "execution_count": 33,
   "metadata": {
    "collapsed": true
   },
   "outputs": [],
   "source": [
    "def cycle_check(box_ball_system, initial_ball_position, max_iteration=10000):\n",
    "    \"\"\"\n",
    "        基本周期の計算\n",
    "    \"\"\"\n",
    "    box_ball_system.set_balls(initial_ball_position)\n",
    "    initial_state = np.copy(box_ball_system.boxball)\n",
    "    for i in range(max_iteration):\n",
    "        box_ball_system._update()\n",
    "        if np.all(box_ball_system.boxball == initial_state):\n",
    "            return box_ball_system.time\n",
    "    return False"
   ]
  },
  {
   "cell_type": "code",
   "execution_count": 34,
   "metadata": {
    "collapsed": true
   },
   "outputs": [],
   "source": [
    "state =\"\"\"\n",
    "    222112222111112211122111\n",
    "\"\"\"\n",
    "state = state[5:-1]\n",
    "state = np.array([int(i) for i in list(state)])"
   ]
  },
  {
   "cell_type": "code",
   "execution_count": 35,
   "metadata": {
    "collapsed": true
   },
   "outputs": [],
   "source": [
    "system = BoxBall(system_size=len(state), periodic=True, history=True)"
   ]
  },
  {
   "cell_type": "code",
   "execution_count": 36,
   "metadata": {
    "collapsed": false
   },
   "outputs": [
    {
     "data": {
      "text/plain": [
       "48"
      ]
     },
     "execution_count": 36,
     "metadata": {},
     "output_type": "execute_result"
    }
   ],
   "source": [
    "cycle_check(system, np.where(state==2)[0], max_iteration=10000)"
   ]
  },
  {
   "cell_type": "markdown",
   "metadata": {},
   "source": [
    "基本周期は48だそうです。確認してみましょう。"
   ]
  },
  {
   "cell_type": "code",
   "execution_count": 37,
   "metadata": {
    "collapsed": false
   },
   "outputs": [
    {
     "name": "stdout",
     "output_type": "stream",
     "text": [
      "t = 00 : ●●●□□●●●●□□□□□●●□□□●●□□□\n",
      "t = 01 : □□□●●□□□□●●●●●□□●●□□□●●□\n",
      "t = 02 : ●●●□□●●□□□□□□□●●□□●●●□□●\n",
      "t = 03 : □□□●●□□●●●●●□□□□●●□□□●●□\n",
      "t = 04 : ●□□□□●●□□□□□●●●●□□●●●□□●\n",
      "t = 05 : □●●●●□□●●●□□□□□□●●□□□●●□\n",
      "t = 06 : ●□□□□●●□□□●●●●●□□□●●□□□●\n",
      "t = 07 : □●●●□□□●●□□□□□□●●●□□●●●□\n",
      "t = 08 : ●□□□●●●□□●●●●□□□□□●●□□□●\n",
      "t = 09 : □●●□□□□●●□□□□●●●●●□□●●□□\n",
      "t = 10 : ●□□●●●●□□●●□□□□□□□●●□□●●\n",
      "t = 11 : □●●□□□□●●□□●●●●●□□□□●●□□\n",
      "t = 12 : ●□□●●□□□□●●□□□□□●●●●□□●●\n",
      "t = 13 : □●●□□●●●●□□●●●□□□□□□●●□□\n",
      "t = 14 : □□□●●□□□□●●□□□●●●●●□□□●●\n",
      "t = 15 : ●●●□□●●●□□□●●□□□□□□●●●□□\n",
      "t = 16 : □□□●●□□□●●●□□●●●●□□□□□●●\n",
      "t = 17 : ●●□□□●●□□□□●●□□□□●●●●●□□\n",
      "t = 18 : □□●●●□□●●●●□□●●□□□□□□□●●\n",
      "t = 19 : ●●□□□●●□□□□●●□□●●●●●□□□□\n",
      "t = 20 : □□●●●□□●●□□□□●●□□□□□●●●●\n",
      "t = 21 : ●●□□□●●□□●●●●□□●●●□□□□□□\n",
      "t = 22 : □□●●□□□●●□□□□●●□□□●●●●●□\n",
      "t = 23 : ●●□□●●●□□●●●□□□●●□□□□□□●\n",
      "t = 24 : □□●●□□□●●□□□●●●□□●●●●□□□\n",
      "t = 25 : ●●□□●●□□□●●□□□□●●□□□□●●●\n",
      "t = 26 : □□●●□□●●●□□●●●●□□●●□□□□□\n",
      "t = 27 : □□□□●●□□□●●□□□□●●□□●●●●●\n",
      "t = 28 : ●●●●□□●●●□□●●□□□□●●□□□□□\n",
      "t = 29 : □□□□●●□□□●●□□●●●●□□●●●□□\n",
      "t = 30 : ●●●□□□●●□□□●●□□□□●●□□□●●\n",
      "t = 31 : □□□●●●□□●●●□□●●●□□□●●□□□\n",
      "t = 32 : ●□□□□□●●□□□●●□□□●●●□□●●●\n",
      "t = 33 : □●●●●●□□●●□□□●●□□□□●●□□□\n",
      "t = 34 : □□□□□□●●□□●●●□□●●●●□□●●□\n",
      "t = 35 : ●●●●□□□□●●□□□●●□□□□●●□□●\n",
      "t = 36 : □□□□●●●●□□●●●□□●●□□□□●●□\n",
      "t = 37 : ●●□□□□□□●●□□□●●□□●●●●□□●\n",
      "t = 38 : □□●●●●●□□□●●□□□●●□□□□●●□\n",
      "t = 39 : ●□□□□□□●●●□□●●●□□●●●□□□●\n",
      "t = 40 : □●●●●□□□□□●●□□□●●□□□●●●□\n",
      "t = 41 : ●□□□□●●●●●□□●●□□□●●□□□□●\n",
      "t = 42 : □●●□□□□□□□●●□□●●●□□●●●●□\n",
      "t = 43 : ●□□●●●●●□□□□●●□□□●●□□□□●\n",
      "t = 44 : □●●□□□□□●●●●□□●●●□□●●□□□\n",
      "t = 45 : ●□□●●●□□□□□□●●□□□●●□□●●●\n",
      "t = 46 : □●●□□□●●●●●□□□●●□□□●●□□□\n",
      "t = 47 : □□□●●□□□□□□●●●□□●●●□□●●●\n",
      "t = 48 : ●●●□□●●●●□□□□□●●□□□●●□□□\n"
     ]
    }
   ],
   "source": [
    "system.display()"
   ]
  },
  {
   "cell_type": "markdown",
   "metadata": {},
   "source": [
    "$t=48$で初めて初期状態に戻ってきた事が分かります。"
   ]
  },
  {
   "cell_type": "markdown",
   "metadata": {},
   "source": [
    "最後に初期状態をランダム(一様)に発生させて、基本周期の分布をみてみましょう。"
   ]
  },
  {
   "cell_type": "code",
   "execution_count": 38,
   "metadata": {
    "collapsed": false
   },
   "outputs": [],
   "source": [
    "def random_state(system_size):\n",
    "    state = []\n",
    "    for x in np.random.randint(low=0, high=2**8, size=int((system_size - 1) / 8) + 1):\n",
    "        x = np.array([int(i) for i in list(bin(x)[2:])])\n",
    "        state.append(np.concatenate([np.zeros(8 - len(x)), x]))\n",
    "    return np.concatenate(state)[:system_size]\n",
    "\n",
    "def generate_random_initial_state(system_size):\n",
    "    num_balls_criterion = False\n",
    "    while not num_balls_criterion:\n",
    "        state = random_state(system_size)\n",
    "        num_balls = np.sum(state)\n",
    "        if num_balls < system_size/2:\n",
    "            num_balls_criterion = True\n",
    "    return state"
   ]
  },
  {
   "cell_type": "code",
   "execution_count": 46,
   "metadata": {
    "collapsed": true
   },
   "outputs": [],
   "source": [
    "system_size = 25\n",
    "system = BoxBall(system_size=system_size, periodic=True, history=False)\n",
    "\n",
    "cycle_dist = []\n",
    "balls = []\n",
    "failed_initial_states = []"
   ]
  },
  {
   "cell_type": "code",
   "execution_count": 47,
   "metadata": {
    "collapsed": false
   },
   "outputs": [
    {
     "name": "stdout",
     "output_type": "stream",
     "text": [
      "CPU times: user 1min 30s, sys: 2.74 s, total: 1min 33s\n",
      "Wall time: 1min 30s\n"
     ]
    }
   ],
   "source": [
    "%%time\n",
    "test_size = 1000\n",
    "for i in range(test_size):\n",
    "    if i % 10 == 0:\n",
    "        print(\"{0}/{1}\".format(i, test_size), '\\r', end='')\n",
    "    state = generate_random_initial_state(system_size)\n",
    "    balls.append(np.sum(state))\n",
    "    cycle = cycle_check(system, np.where(state)[0], max_iteration=15000)\n",
    "    if cycle != False:\n",
    "        cycle_dist.append(cycle)\n",
    "    else:\n",
    "        failed_initial_states.append(state)"
   ]
  },
  {
   "cell_type": "markdown",
   "metadata": {},
   "source": [
    "ここでは基本周期が15000を超えるものについては、計算を諦めています。この最大値を変えたい場合は、max_iterationを変えてください。"
   ]
  },
  {
   "cell_type": "code",
   "execution_count": 48,
   "metadata": {
    "collapsed": false
   },
   "outputs": [
    {
     "name": "stdout",
     "output_type": "stream",
     "text": [
      "valid / test size = 995 / 1000\n"
     ]
    }
   ],
   "source": [
    "cycle_dist = np.array(cycle_dist)\n",
    "balls = np.array(balls)\n",
    "print(\"valid / test size = {0} / {1}\".format(len(cycle_dist), test_size))"
   ]
  },
  {
   "cell_type": "markdown",
   "metadata": {},
   "source": [
    "なお計算に失敗した初期状態は以下です。(※この結果は実行毎に変わります。)"
   ]
  },
  {
   "cell_type": "code",
   "execution_count": 49,
   "metadata": {
    "collapsed": false
   },
   "outputs": [
    {
     "name": "stdout",
     "output_type": "stream",
     "text": [
      "□□□●●□□●●●●●●□□□□●□□□●●●□\n",
      "□●●□□□●●●□□□●●●●●□□●□□□□□\n",
      "●●□□●●□□□□□●●□●●●●●□□□□□●\n",
      "□□□●□□□□□●●●●●□□●●□□□□●●●\n",
      "●●□□□□●●□□□●●●●●□□□□□□●●□\n"
     ]
    }
   ],
   "source": [
    "for state in failed_initial_states:\n",
    "    print(\"\".join(list(np.where(state==1, '●', '□'))))"
   ]
  },
  {
   "cell_type": "markdown",
   "metadata": {},
   "source": [
    "ボールの個数分布を見てみましょう。だいたい二項分布の片側半分っぽくなっているはずです。"
   ]
  },
  {
   "cell_type": "code",
   "execution_count": 50,
   "metadata": {
    "collapsed": false
   },
   "outputs": [
    {
     "data": {
      "image/png": "[encoded data removed]",
      "text/plain": [
       "<matplotlib.figure.Figure at 0x7f482a427748>"
      ]
     },
     "metadata": {},
     "output_type": "display_data"
    }
   ],
   "source": [
    "plt.title('histgram over # of balls (sytem size = {0})'.format(system_size))\n",
    "plt.xlabel('# of balls', fontsize=15)\n",
    "plt.hist(balls, range=(1,int(system_size/2)), rwidth=0.8, bins=int(system_size/2)-1, align='right');"
   ]
  },
  {
   "cell_type": "markdown",
   "metadata": {},
   "source": [
    "次に基本周期分布を見てみます。"
   ]
  },
  {
   "cell_type": "code",
   "execution_count": 52,
   "metadata": {
    "collapsed": false
   },
   "outputs": [
    {
     "data": {
      "image/png": "[encoded data removed]",
      "text/plain": [
       "<matplotlib.figure.Figure at 0x7f482821cef0>"
      ]
     },
     "metadata": {},
     "output_type": "display_data"
    }
   ],
   "source": [
    "plt.title('fundamental cycles\\' distribution (sytem size = {0})'.format(system_size))\n",
    "plt.xlabel('# of fundamental cycles', fontsize=15)\n",
    "plt.ylabel('frequency', fontsize=15)\n",
    "plt.hist(cycle_dist, bins=30);"
   ]
  },
  {
   "cell_type": "markdown",
   "metadata": {},
   "source": [
    "マシンパワーをお持ちの方は、是非いろいろ調べてみてください。もしかしたら数学的大発見が眠っているかもしれません。"
   ]
  }
 ],
 "metadata": {
  "kernelspec": {
   "display_name": "Python 3",
   "language": "python",
   "name": "python3"
  },
  "language_info": {
   "codemirror_mode": {
    "name": "ipython",
    "version": 3
   },
   "file_extension": ".py",
   "mimetype": "text/x-python",
   "name": "python",
   "nbconvert_exporter": "python",
   "pygments_lexer": "ipython3",
   "version": "3.6.0"
  }
 },
 "nbformat": 4,
 "nbformat_minor": 2
}
