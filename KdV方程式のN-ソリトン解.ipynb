{
 "cells": [
  {
   "cell_type": "markdown",
   "metadata": {},
   "source": [
    "#### 注意点など\n",
    "\n",
    "* このノートブックは個人で作っている非公開のモジュールを元に必要箇所を抜き出しています。そのため仕様等、分かりにくい部分があるかもしれませんが、ご了承ください。\n",
    "\n",
    "* またテストを行っている環境は非常に限定的です。\n",
    "\n",
    "#### 実行想定環境\n",
    "\n",
    "* python 3.x系を想定\n",
    "\n",
    "* またUbuntu 16.04 LTSでのみ実行を確認\n",
    "\n",
    "* 今回アニメーション作成にはconvertコマンド(Imagemagik)を用いています。Windowsの方は例えばmatplotlibのArtistAnimationを用いてください。\n",
    "\n",
    "#### 必要なパッケージ等\n",
    "\n",
    "* jupyter notebookを使える方は問題ないと思いますが、ipykernel、numpyとmatplotlibが最低限必要です\n",
    "\n",
    "* また後半ではsympyを使います\n",
    "\n",
    "* conda系で管理するのをオススメします\n",
    "    + anacondaを入れて、\n",
    "    > conda create -n (環境名) python=3.6 numpy matplotlib sympy ipykernel\n",
    "    + と実行するだけで、環境ができます\n",
    "\n",
    "* またrequirement.txtファイルも置いてあるので、そちらからpackageを構築することも可能です。"
   ]
  },
  {
   "cell_type": "markdown",
   "metadata": {},
   "source": [
    "## 1. N-ソリトン解を眺めてみる\n",
    "\n",
    "* ここでやるのは単純に$\\tau$関数と、その$x$微分たちを、$N$-ソリトン解の表式を元に素直に計算するだけで、捻りも何もありません。\n",
    "\n",
    "* というわけでパラメータをいろいろ変えて、ソリトン達の有志を眺めてみましょう。"
   ]
  },
  {
   "cell_type": "markdown",
   "metadata": {},
   "source": [
    "#### 復習\n",
    "\n",
    "* KdV方程式 : $u_t + 6uu_x + u_{xxx} = 0$\n",
    "\n",
    "* N-ソリトン解\n",
    "\n",
    "$\\displaystyle \\tau^{(n)}(x,t) = \\sum_{\\mu \\in \\{0,1\\}^n} \\exp\\left[ \\sum_{i=1}^{n} \\mu_i \\eta_i + \\sum_{1\\le i<j\\le n} \\mu_i \\mu_j \\log\\left(\\dfrac{p_i-p_j}{p_i+p_j} \\right)^2 \\right]$\n",
    "\n",
    "ここで$\\sigma_1 = \\dfrac{\\tau_{x}}{\\tau}$と$\\sigma_2 = \\dfrac{\\tau_{xx}}{\\tau}$おきます。すると$u = 2\\dfrac{\\partial^2}{\\partial x^2} \\log(\\tau) = 2 \\left( \\sigma_1^2 - \\sigma_2 \\right)$と表せます。"
   ]
  },
  {
   "cell_type": "code",
   "execution_count": 1,
   "metadata": {
    "collapsed": true
   },
   "outputs": [],
   "source": [
    "# PythonでCバックエンドの配列計算を行うライブラリ\n",
    "import numpy as np\n",
    "# Pythonの有名なプロットツール\n",
    "import matplotlib.pyplot as plt\n",
    "# jupyter notebookでプロット結果をインライン表示するおまじないコマンド\n",
    "%matplotlib inline\n",
    "\n",
    "# リスト内の全要素の演算を簡潔に表現するため\n",
    "from functools import reduce\n",
    "# システム関係（保存やアニメーション表示しない場合は不要）\n",
    "import os, pickle, shutil, subprocess"
   ]
  },
  {
   "cell_type": "markdown",
   "metadata": {},
   "source": [
    "基本的には式をそのまま計算しています。\n",
    "\n",
    "※ただし1箇所、expの結果が無限大になるのを防ぐため、x毎に$\\tau$関数をスケール変換を施しています。<br>\n",
    "ここで$\\tau$関数の微分との比は、この局所スケール変換の元で不変であり、$u$はこの比のみで書けるため、結果には影響しないことに注意してください。\n",
    "\n",
    "より具体的に何を行っているか、は直前の説明を参照してください。"
   ]
  },
  {
   "cell_type": "code",
   "execution_count": 2,
   "metadata": {
    "collapsed": false
   },
   "outputs": [],
   "source": [
    "N_max = 15\n",
    "\n",
    "class KdV_tau():\n",
    "    __version__ = \"-1.3.mod\"\n",
    "    __version_comment__ = \"modified version for this notebook\"\n",
    "    \n",
    "    def __init__(self, N, x=None, p=None, theta=None):\n",
    "        assert 1 <= N <= N_max\n",
    "        # ソリトンの個数\n",
    "        self.N = int(N)\n",
    "        # 指定したxの値またはxの(デフォルト)範囲を指定\n",
    "        self.x = np.linspace(-1.,1.,200) if x is None else x\n",
    "        # 指定したpの値またはpの値を乱数でセット\n",
    "        self.p = 3*np.random.rand(N).astype(np.float64) if p is None or len(p) != self.N else np.array(p)\n",
    "        # 指定したthetaの値またはthetaの値を0にセット\n",
    "        self.theta = np.zeros(N, np.float64) if theta is None or len(theta) != self.N else np.array(theta)\n",
    "        # 時刻毎に結果を格納\n",
    "        self._u_evolve = {}\n",
    "        # 計算を行った時刻一覧\n",
    "        self._time = np.array([])\n",
    "        # 計算準備完了フラグ\n",
    "        self.__ready = False\n",
    "    \n",
    "    def set_values(self, **kwargs):\n",
    "        \"\"\"\n",
    "            記述：パラメータをセット\n",
    "        \"\"\"\n",
    "        self.__ready = False\n",
    "        for par, val in kwargs.items():\n",
    "            exec(\"self.{0} = np.array({1}, np.float64)\".format(par, val))\n",
    "\n",
    "    def set_X_range(self, x_min, x_max, num_grid=None, DeltaX=None):\n",
    "        \"\"\"\n",
    "            記述：xの範囲をセット\n",
    "            x_min, x_max : xの最小値と最大値\n",
    "            以下のどちらかを指定\n",
    "            num_grid : 格子分割数\n",
    "            DeltaX : 格子間隔\n",
    "        \"\"\"\n",
    "        assert x_min < x_max\n",
    "        self.__ready = False\n",
    "        if DeltaX is None and num_grid > 1:\n",
    "            self.x = np.linspace(x_min, x_max, num_grid)\n",
    "            self.DeltaX = self.x[1] - self.x[0]\n",
    "        elif DeltaX > 0.0:\n",
    "            x_max = int( (x_max - x_min) / DeltaX ) * DeltaX + x_min + 0.1 * DeltaX\n",
    "            self.x = np.arange(x_min, x_max, DeltaX)\n",
    "            self.DeltaX = DeltaX\n",
    "\n",
    "    def setup(self):\n",
    "        \"\"\"\n",
    "            時間に依存しない値を予め計算\n",
    "        \"\"\"\n",
    "        self._u_evolve = {}\n",
    "        self._time = np.array([])\n",
    "        p = self.p.astype(np.float64)\n",
    "        theta = self.theta\n",
    "        N = self.N\n",
    "        print(\"{0}-ソリトン解\".format(N))\n",
    "        print(\"\\t \",\"\".join([\"p_{0} = {1:.3f}, \".format(i+1, p_) for i, p_ in enumerate(p)]))\n",
    "        print(\"\\t \",\"\".join([\"theta_{0} = {1:.3f}, \".format(i+1, th_) for i, th_ in enumerate(theta)]))\n",
    "        \n",
    "        # p x - theta を計算\n",
    "        self.__eta_t0 = np.tile(self.x[:,None], (1,self.N)) * self.p - self.theta\n",
    "        # 可能な２体ソリトン間「相互作用」に付随する位相シフト効果を計算\n",
    "        self.__two_scatter = np.array([[((p[i] - p[j])/(p[i] + p[j]))**2 for i in range(N)] for j in range(N)] + np.identity(N))\n",
    "\n",
    "        eta_all = []\n",
    "        coeff_of_time = []\n",
    "        multiple_scatter = []\n",
    "        first_derivative_coeff = []\n",
    "        \n",
    "        # N-ソリトンの中から可能な組み合わせ(2^N通り)で足し上げ\n",
    "        for k in range(2**N):\n",
    "            mu = np.array(list(map(int,list(bin(k+2**N)[3:]))))\n",
    "            # 選ばれたソリトンの添字集合を取得\n",
    "            J = np.where(mu==1)[0]\n",
    "            # 選ばれたソリトンの、可能な対の間の「相互作用項」を掛け算\n",
    "            multiple_scatter.append( reduce(lambda x,y:x*y, [ self.__two_scatter[i,j] for i in J for j in J[J>i]]) if len(J) >= 2 else 1. )\n",
    "            # 選んだソリトンの、時刻0での進行項(eta)を足し上げ\n",
    "            eta_all.append( np.sum(self.__eta_t0[:,J], axis=1) )\n",
    "            # 時間の前の係数を計算\n",
    "            coeff_of_time.append( - np.sum(p[J]**3.0) )\n",
    "            # tau関数のxによる１階微分時の、expの前の係数\n",
    "            first_derivative_coeff.append( np.sum(self.p[J]) )\n",
    "            \n",
    "        self.__eta_all = np.array(eta_all).T\n",
    "        self.__coeff_of_time = np.array(coeff_of_time)\n",
    "        self.__multiple_scatter = np.array(multiple_scatter)\n",
    "        self.__first_derivative_coeff = np.array(first_derivative_coeff)\n",
    "        # tau関数のxによる２階微分時の、expの前の係数\n",
    "        self.__second_derivative_coeff = self.__first_derivative_coeff**2.0\n",
    "        # パラメータの事前計算完了フラグ有効化\n",
    "        self.__ready = True\n",
    "\n",
    "    def __compute_eta(self, t):\n",
    "        \"\"\"\n",
    "            ソリトンの進行度合いを表す進行項(eta)を計算\n",
    "            ※２行目はなくてもよい(expの中身が大きい時に、値がinfになるのを防ぐため)\n",
    "        \"\"\"\n",
    "        self.__eta = self.__eta_all + t * self.__coeff_of_time\n",
    "        self.__eta -= np.tile(self.__eta.max(axis=1)[:,None], (1,2**self.N))\n",
    "        \n",
    "    def __weighting_exp(self,derivative_coeff):\n",
    "        return np.sum(self.__exp * derivative_coeff * self.__multiple_scatter, axis=1) / self.__tau_normalized\n",
    "    \n",
    "    def __compute_derivative_ratios(self, t, orders=[1,2]):\n",
    "        \"\"\"\n",
    "            tau関数のx微分を計算\n",
    "            orders : 計算する微分の次数\n",
    "        \"\"\"\n",
    "        assert max(orders) <= 5\n",
    "        self.__compute_eta(t)\n",
    "        self.__exp = np.exp(self.__eta)\n",
    "        \n",
    "        self.__tau_normalized = np.sum(self.__exp * self.__multiple_scatter, axis=1)\n",
    "        \n",
    "        if 1 in orders:\n",
    "            self._first_derivative_ratio = self.__weighting_exp(self.__first_derivative_coeff)\n",
    "        if 2 in orders:\n",
    "            self._second_derivative_ratio = self.__weighting_exp(self.__second_derivative_coeff)\n",
    "        if 3 in orders:\n",
    "            self._third_derivative_ratio = self.__weighting_exp(self.__first_derivative_coeff**3.0)\n",
    "        if 4 in orders:\n",
    "            self._fourth_derivative_ratio = self.__weighting_exp(self.__first_derivative_coeff**4.0)\n",
    "        if 5 in orders:\n",
    "            self._fifth_derivative_ratio = self.__weighting_exp(self.__first_derivative_coeff**5.0)\n",
    "        \n",
    "    def compute_u(self, time):\n",
    "        \"\"\"\n",
    "            波の高さuを計算\n",
    "        \"\"\"\n",
    "        if self.__ready == False:\n",
    "            return None\n",
    "        if type(time) == float or type(time) == int:\n",
    "            time = [time]\n",
    "        for t in np.array(time):\n",
    "            self.__compute_derivative_ratios(t)\n",
    "            # tau関数とその微分からuの値を計算\n",
    "            self.u = 2 * (self._second_derivative_ratio - self._first_derivative_ratio**2.0)\n",
    "            self._u_evolve.update({ t : self.u.copy() })\n",
    "        self._time = np.array(list(self._u_evolve.keys()))\n",
    "        self._time.sort()\n",
    "    \n",
    "    def save(self, path):\n",
    "        assert self.__ready\n",
    "        with open(path, 'wb') as f:\n",
    "            pickle.dump([self.N, self.p, self.theta, self.x, self._time, self._u_evolve], f)\n",
    "    \n",
    "    def load(self, path):\n",
    "        with open(path, 'rb') as f:\n",
    "            self.N, self.p, self.theta, self.x, self._time, self._u_evolve = pickle.load(f)\n",
    "            self.__ready = True\n",
    "    \n",
    "    def plot(self, t=None, **kwargs):\n",
    "        if self.__ready == False:\n",
    "            return None\n",
    "        KdV_solitons = self\n",
    "        if t not in KdV_solitons._u_evolve.keys():\n",
    "            i = np.argmin(np.abs( KdV_solitons._time - t ))\n",
    "            t = KdV_solitons._time[i]\n",
    "        y_max = 0.55 * KdV_solitons.p.max()**2\n",
    "        plt.clf()\n",
    "        plt.title(\"KdV {0}-solitons      time = {1:.1f}\".format(KdV_solitons.N, t), fontsize=15)\n",
    "        system_size = len(KdV_solitons.x)\n",
    "        plt.xlim([KdV_solitons.x[0], KdV_solitons.x[-1]])\n",
    "        ticks_pos = np.linspace(KdV_solitons.x[0], KdV_solitons.x[-1],6)\n",
    "        plt.xticks(ticks_pos, ticks_pos)\n",
    "        plt.xlabel(\"x\", fontsize=15)\n",
    "        plt.ylabel(\"u(x)     \", rotation=0, fontsize=15)\n",
    "        plt.ylim(-y_max / 100, y_max)\n",
    "        plt.plot(KdV_solitons.x, KdV_solitons._u_evolve[t], **kwargs)"
   ]
  },
  {
   "cell_type": "code",
   "execution_count": 3,
   "metadata": {
    "collapsed": false
   },
   "outputs": [],
   "source": [
    "def make_animation_frames(KdV_solitons, target_dir, output_dir, Create_animation=True, time_interval=10,\n",
    "                          t_start=None, t_end=None, **kwargs):\n",
    "    if not os.path.exists(target_dir):\n",
    "        os.mkdir(target_dir)\n",
    "    digit = int(np.log10(len(KdV_solitons._time))) + 1\n",
    "    y_max = 0.55 * KdV_solitons.p.max()**2\n",
    "    t_start = t_start or KdV_solitons._time[0]\n",
    "    t_end = t_end or KdV_solitons._time[-1]\n",
    "    for i,t in enumerate(KdV_solitons._time[(t_start <= KdV_solitons._time) & (KdV_solitons._time <= t_end)]):\n",
    "        if i>0:\n",
    "            plt.close()\n",
    "        plt.clf()\n",
    "        plt.title(\"KdV {0}-solitons      time = {1:.1f}\".format(KdV_solitons.N, t), fontsize=15)\n",
    "        system_size = len(KdV_solitons.x)\n",
    "        plt.xlim([KdV_solitons.x[0], KdV_solitons.x[-1]])\n",
    "        ticks_pos = np.linspace(KdV_solitons.x[0], KdV_solitons.x[-1],6)\n",
    "        plt.xticks(ticks_pos, ticks_pos)\n",
    "        plt.xlabel(\"x\", fontsize=15)\n",
    "        plt.ylabel(\"u(x)     \", rotation=0, fontsize=15)\n",
    "        plt.ylim(-y_max / 100, y_max)\n",
    "        horizontal = -y_max /200 * np.ones(KdV_solitons.x.shape)\n",
    "        plt.fill_between(KdV_solitons.x, KdV_solitons._u_evolve[t], horizontal, **kwargs);\n",
    "        plt.savefig(os.path.join(target_dir, '{0:0{1}d}'.format(i, digit)))\n",
    "        \n",
    "    if Create_animation and shutil.which('convert') is not None:\n",
    "        target_frames = os.path.join(target_dir, \"*.png\")\n",
    "        output_gifname = os.path.join(output_dir, \"{0}_soliton.gif\".format(KdV_solitons.N))\n",
    "        convert_command = \"convert -layers optimize -loop 0 -delay {2} {0} {1}\".format(target_frames, output_gifname, time_interval)\n",
    "        result = subprocess.run(convert_command, shell=True)\n",
    "        return result"
   ]
  },
  {
   "cell_type": "markdown",
   "metadata": {},
   "source": [
    "#### 2-ソリトンの計算例"
   ]
  },
  {
   "cell_type": "markdown",
   "metadata": {},
   "source": [
    "各ソリトンのパラメータを\n",
    "$( p_1 = 1.0, \\theta_1 = 0.0 )$、\n",
    "$( p_2 = 1.5, \\theta_2 = 0.0 )$\n",
    "にセット"
   ]
  },
  {
   "cell_type": "code",
   "execution_count": 4,
   "metadata": {
    "collapsed": false
   },
   "outputs": [],
   "source": [
    "two_solitons = KdV_tau(N=2, p=[1.0, 1.5], theta=[0., 0.])"
   ]
  },
  {
   "cell_type": "markdown",
   "metadata": {},
   "source": [
    "$x$の範囲を-30から30に指定し、0.1間隔とします"
   ]
  },
  {
   "cell_type": "code",
   "execution_count": 5,
   "metadata": {
    "collapsed": false
   },
   "outputs": [],
   "source": [
    "two_solitons.set_X_range(-30,30,DeltaX=0.1)"
   ]
  },
  {
   "cell_type": "markdown",
   "metadata": {},
   "source": [
    "時間$t$に依存しない計算を予め計算しておき、無駄を省きます"
   ]
  },
  {
   "cell_type": "code",
   "execution_count": 6,
   "metadata": {
    "collapsed": false
   },
   "outputs": [
    {
     "name": "stdout",
     "output_type": "stream",
     "text": [
      "2-ソリトン解\n",
      "\t  p_1 = 1.000, p_2 = 1.500, \n",
      "\t  theta_1 = 0.000, theta_2 = 0.000, \n"
     ]
    }
   ],
   "source": [
    "two_solitons.setup()"
   ]
  },
  {
   "cell_type": "markdown",
   "metadata": {},
   "source": [
    "$t$の値を$-5.0$から$5.0$まで$0.1$刻みで計算してみます"
   ]
  },
  {
   "cell_type": "code",
   "execution_count": 7,
   "metadata": {
    "collapsed": false
   },
   "outputs": [
    {
     "name": "stdout",
     "output_type": "stream",
     "text": [
      "CPU times: user 20 ms, sys: 0 ns, total: 20 ms\n",
      "Wall time: 19.7 ms\n"
     ]
    }
   ],
   "source": [
    "%%time\n",
    "t_start = - 5.0\n",
    "t_end = 5.0 + 1e-7\n",
    "Delta_t = 0.1\n",
    "two_solitons.compute_u(list(np.arange(t_start,t_end,Delta_t)))"
   ]
  },
  {
   "cell_type": "markdown",
   "metadata": {},
   "source": [
    "時刻$t$の時の$u$の概形をプロット"
   ]
  },
  {
   "cell_type": "code",
   "execution_count": 8,
   "metadata": {
    "collapsed": false
   },
   "outputs": [
    {
     "data": {
      "image/png": "[encoded data removed]",
      "text/plain": [
       "<matplotlib.figure.Figure at 0x7f07f4a88358>"
      ]
     },
     "metadata": {},
     "output_type": "display_data"
    }
   ],
   "source": [
    "t = -2.0\n",
    "two_solitons.plot(t);"
   ]
  },
  {
   "cell_type": "markdown",
   "metadata": {},
   "source": [
    "アニメーションを作成\n",
    "※実行環境が整っている場合"
   ]
  },
  {
   "cell_type": "code",
   "execution_count": 9,
   "metadata": {
    "collapsed": false,
    "scrolled": true
   },
   "outputs": [
    {
     "data": {
      "text/plain": [
       "CompletedProcess(args='convert -layers optimize -loop 0 -delay 10 2soliton_animation/*.png ./2_soliton.gif', returncode=0)"
      ]
     },
     "execution_count": 9,
     "metadata": {},
     "output_type": "execute_result"
    },
    {
     "data": {
      "image/png": "[encoded data removed]",
      "text/plain": [
       "<matplotlib.figure.Figure at 0x7f07e9fa3f28>"
      ]
     },
     "metadata": {},
     "output_type": "display_data"
    }
   ],
   "source": [
    "make_animation_frames(two_solitons, \"2soliton_animation\", \".\", Create_animation=True, time_interval=10, facecolor='b', alpha=0.6)"
   ]
  },
  {
   "cell_type": "markdown",
   "metadata": {},
   "source": [
    "#### 3-ソリトンの計算例"
   ]
  },
  {
   "cell_type": "markdown",
   "metadata": {},
   "source": [
    "各ソリトンのパラメータを\n",
    "$( p_1 = 1.2, \\theta_1 = 0.0 )$、\n",
    "$( p_2 = 2.0, \\theta_2 = 5.0 )$、\n",
    "$( p_3 = 2.5, \\theta_3 = -15.0 )$\n",
    "にセット"
   ]
  },
  {
   "cell_type": "code",
   "execution_count": 10,
   "metadata": {
    "collapsed": false
   },
   "outputs": [],
   "source": [
    "three_solitons = KdV_tau(N=3, p=[1.2, 2., 2.5], theta=[0., 5., -15.])"
   ]
  },
  {
   "cell_type": "markdown",
   "metadata": {},
   "source": [
    "$x$の範囲を-30から40に指定し、0.1間隔とします"
   ]
  },
  {
   "cell_type": "code",
   "execution_count": 11,
   "metadata": {
    "collapsed": false
   },
   "outputs": [],
   "source": [
    "three_solitons.set_X_range(-30,40,DeltaX=0.01)"
   ]
  },
  {
   "cell_type": "markdown",
   "metadata": {},
   "source": [
    "時間$t$に依存しない計算を予め計算しておき、無駄を省きます"
   ]
  },
  {
   "cell_type": "code",
   "execution_count": 12,
   "metadata": {
    "collapsed": false
   },
   "outputs": [
    {
     "name": "stdout",
     "output_type": "stream",
     "text": [
      "3-ソリトン解\n",
      "\t  p_1 = 1.200, p_2 = 2.000, p_3 = 2.500, \n",
      "\t  theta_1 = 0.000, theta_2 = 5.000, theta_3 = -15.000, \n"
     ]
    }
   ],
   "source": [
    "three_solitons.setup()"
   ]
  },
  {
   "cell_type": "markdown",
   "metadata": {},
   "source": [
    "$t$の値を$-3.0$から$6.0$まで$0.1$刻みで計算してみます"
   ]
  },
  {
   "cell_type": "code",
   "execution_count": 13,
   "metadata": {
    "collapsed": false
   },
   "outputs": [
    {
     "name": "stdout",
     "output_type": "stream",
     "text": [
      "CPU times: user 176 ms, sys: 0 ns, total: 176 ms\n",
      "Wall time: 182 ms\n"
     ]
    }
   ],
   "source": [
    "%%time\n",
    "t_start = - 3.0\n",
    "t_end = 6.0 + 1e-7\n",
    "Delta_t = 0.1\n",
    "three_solitons.compute_u(list(np.arange(t_start,t_end,Delta_t)))"
   ]
  },
  {
   "cell_type": "markdown",
   "metadata": {},
   "source": [
    "時刻$t$の時の$u$の概形をプロット"
   ]
  },
  {
   "cell_type": "code",
   "execution_count": 14,
   "metadata": {
    "collapsed": false,
    "scrolled": true
   },
   "outputs": [
    {
     "data": {
      "image/png": "[encoded data removed]",
      "text/plain": [
       "<matplotlib.figure.Figure at 0x7f07f49c74e0>"
      ]
     },
     "metadata": {},
     "output_type": "display_data"
    }
   ],
   "source": [
    "t = 6.0\n",
    "three_solitons.plot(t);"
   ]
  },
  {
   "cell_type": "markdown",
   "metadata": {},
   "source": [
    "アニメーションを作成\n",
    "※実行環境が整っている場合"
   ]
  },
  {
   "cell_type": "code",
   "execution_count": 15,
   "metadata": {
    "collapsed": false,
    "scrolled": true
   },
   "outputs": [
    {
     "data": {
      "text/plain": [
       "CompletedProcess(args='convert -layers optimize -loop 0 -delay 10 3soliton_animation/*.png ./3_soliton.gif', returncode=0)"
      ]
     },
     "execution_count": 15,
     "metadata": {},
     "output_type": "execute_result"
    },
    {
     "data": {
      "image/png": "[encoded data removed]",
      "text/plain": [
       "<matplotlib.figure.Figure at 0x7f07eb3c7dd8>"
      ]
     },
     "metadata": {},
     "output_type": "display_data"
    }
   ],
   "source": [
    "make_animation_frames(three_solitons, \"3soliton_animation\", \".\", Create_animation=True, time_interval=10, facecolor='r', alpha=0.5)"
   ]
  },
  {
   "cell_type": "markdown",
   "metadata": {},
   "source": [
    "#### 4-ソリトンの計算例"
   ]
  },
  {
   "cell_type": "markdown",
   "metadata": {},
   "source": [
    "各ソリトンのパラメータを\n",
    "$( p_1 = 1.2, \\theta_1 = 0.0 )$、\n",
    "$( p_2 = 1.3, \\theta_2 = 0.0 )$、\n",
    "$( p_3 = 2.4, \\theta_3 = -10.0 )$、\n",
    "$( p_4 = 2.5, \\theta_3 = -10.0 )$\n",
    "にセット"
   ]
  },
  {
   "cell_type": "code",
   "execution_count": 16,
   "metadata": {
    "collapsed": false
   },
   "outputs": [],
   "source": [
    "four_solitons = KdV_tau(N=4, p=[1.2, 1.3, 2.4, 2.5], theta=[0., 0., -10., -10.])"
   ]
  },
  {
   "cell_type": "markdown",
   "metadata": {},
   "source": [
    "$x$の範囲を-30から40に指定し、0.1間隔とします"
   ]
  },
  {
   "cell_type": "code",
   "execution_count": 17,
   "metadata": {
    "collapsed": false
   },
   "outputs": [],
   "source": [
    "four_solitons.set_X_range(-30,40,DeltaX=0.1)"
   ]
  },
  {
   "cell_type": "markdown",
   "metadata": {},
   "source": [
    "時間$t$に依存しない計算を予め計算しておき、無駄を省きます"
   ]
  },
  {
   "cell_type": "code",
   "execution_count": 18,
   "metadata": {
    "collapsed": false
   },
   "outputs": [
    {
     "name": "stdout",
     "output_type": "stream",
     "text": [
      "4-ソリトン解\n",
      "\t  p_1 = 1.200, p_2 = 1.300, p_3 = 2.400, p_4 = 2.500, \n",
      "\t  theta_1 = 0.000, theta_2 = 0.000, theta_3 = -10.000, theta_4 = -10.000, \n"
     ]
    }
   ],
   "source": [
    "four_solitons.setup()"
   ]
  },
  {
   "cell_type": "markdown",
   "metadata": {},
   "source": [
    "$t$の値を$-3.0$から$5.0$まで$0.1$刻みで計算してみます"
   ]
  },
  {
   "cell_type": "code",
   "execution_count": 19,
   "metadata": {
    "collapsed": false
   },
   "outputs": [
    {
     "name": "stdout",
     "output_type": "stream",
     "text": [
      "CPU times: user 48 ms, sys: 0 ns, total: 48 ms\n",
      "Wall time: 50.2 ms\n"
     ]
    }
   ],
   "source": [
    "%%time\n",
    "t_start = - 3.0\n",
    "t_end = 5.0 + 1e-7\n",
    "Delta_t = 0.1\n",
    "four_solitons.compute_u(list(np.arange(t_start,t_end,Delta_t)))"
   ]
  },
  {
   "cell_type": "markdown",
   "metadata": {},
   "source": [
    "時刻$t$の時の$u$の概形をプロット"
   ]
  },
  {
   "cell_type": "code",
   "execution_count": 20,
   "metadata": {
    "collapsed": false
   },
   "outputs": [
    {
     "data": {
      "image/png": "[encoded data removed]",
      "text/plain": [
       "<matplotlib.figure.Figure at 0x7f07eaecc908>"
      ]
     },
     "metadata": {},
     "output_type": "display_data"
    }
   ],
   "source": [
    "t = 5.0\n",
    "four_solitons.plot(t);"
   ]
  },
  {
   "cell_type": "markdown",
   "metadata": {},
   "source": [
    "アニメーションを作成\n",
    "※実行環境が整っている場合"
   ]
  },
  {
   "cell_type": "code",
   "execution_count": 21,
   "metadata": {
    "collapsed": false,
    "scrolled": true
   },
   "outputs": [
    {
     "data": {
      "text/plain": [
       "CompletedProcess(args='convert -layers optimize -loop 0 -delay 10 4soliton_animation/*.png ./4_soliton.gif', returncode=0)"
      ]
     },
     "execution_count": 21,
     "metadata": {},
     "output_type": "execute_result"
    },
    {
     "data": {
      "image/png": "[encoded data removed]",
      "text/plain": [
       "<matplotlib.figure.Figure at 0x7f07ece2dfd0>"
      ]
     },
     "metadata": {},
     "output_type": "display_data"
    }
   ],
   "source": [
    "make_animation_frames(four_solitons, \"4soliton_animation\", \".\", Create_animation=True, time_interval=10, facecolor='y', alpha=0.6)"
   ]
  },
  {
   "cell_type": "markdown",
   "metadata": {},
   "source": [
    "#### 5-ソリトンの計算例"
   ]
  },
  {
   "cell_type": "markdown",
   "metadata": {},
   "source": [
    "各ソリトンのパラメータを\n",
    "$( p_1 = 0.7, \\theta_1 = 10.0 )$、\n",
    "$( p_2 = 1.3, \\theta_2 = 10.0 )$、\n",
    "$( p_3 = 1.8, \\theta_3 = 5.0 )$、\n",
    "$( p_4 = 2.2, \\theta_4 = 0.0 )$、\n",
    "$( p_5 = 2.5, \\theta_5 = -5.0 )$\n",
    "にセット"
   ]
  },
  {
   "cell_type": "code",
   "execution_count": 22,
   "metadata": {
    "collapsed": false
   },
   "outputs": [],
   "source": [
    "five_solitons = KdV_tau(N=5, p=[0.7, 1.3, 1.8, 2.2, 2.5], theta=[10., 10., 5., 0., -5.])"
   ]
  },
  {
   "cell_type": "markdown",
   "metadata": {},
   "source": [
    "$x$の範囲を-30から70に指定し、0.1間隔とします"
   ]
  },
  {
   "cell_type": "code",
   "execution_count": 23,
   "metadata": {
    "collapsed": false
   },
   "outputs": [],
   "source": [
    "five_solitons.set_X_range(-30,70,DeltaX=0.1)"
   ]
  },
  {
   "cell_type": "markdown",
   "metadata": {},
   "source": [
    "時間$t$に依存しない計算を予め計算しておき、無駄を省きます"
   ]
  },
  {
   "cell_type": "code",
   "execution_count": 24,
   "metadata": {
    "collapsed": false
   },
   "outputs": [
    {
     "name": "stdout",
     "output_type": "stream",
     "text": [
      "5-ソリトン解\n",
      "\t  p_1 = 0.700, p_2 = 1.300, p_3 = 1.800, p_4 = 2.200, p_5 = 2.500, \n",
      "\t  theta_1 = 10.000, theta_2 = 10.000, theta_3 = 5.000, theta_4 = 0.000, theta_5 = -5.000, \n"
     ]
    }
   ],
   "source": [
    "five_solitons.setup()"
   ]
  },
  {
   "cell_type": "markdown",
   "metadata": {},
   "source": [
    "$t$の値を$-5.0$から$10.0$まで$0.1$刻みで計算してみます"
   ]
  },
  {
   "cell_type": "code",
   "execution_count": 25,
   "metadata": {
    "collapsed": false,
    "scrolled": true
   },
   "outputs": [
    {
     "name": "stdout",
     "output_type": "stream",
     "text": [
      "CPU times: user 168 ms, sys: 0 ns, total: 168 ms\n",
      "Wall time: 168 ms\n"
     ]
    }
   ],
   "source": [
    "%%time\n",
    "t_start = - 5.0\n",
    "t_end = 10.0 + 1e-7\n",
    "Delta_t = 0.1\n",
    "five_solitons.compute_u(list(np.arange(t_start,t_end,Delta_t)))"
   ]
  },
  {
   "cell_type": "markdown",
   "metadata": {},
   "source": [
    "時刻$t$の時の$u$の概形をプロット"
   ]
  },
  {
   "cell_type": "code",
   "execution_count": 26,
   "metadata": {
    "collapsed": false
   },
   "outputs": [
    {
     "data": {
      "image/png": "[encoded data removed]",
      "text/plain": [
       "<matplotlib.figure.Figure at 0x7f07ecdb3a20>"
      ]
     },
     "metadata": {},
     "output_type": "display_data"
    }
   ],
   "source": [
    "t = -4.0\n",
    "five_solitons.plot(t);"
   ]
  },
  {
   "cell_type": "markdown",
   "metadata": {},
   "source": [
    "アニメーションを作成\n",
    "※実行環境が整っている場合<br>\n",
    "時間範囲指定もできます"
   ]
  },
  {
   "cell_type": "code",
   "execution_count": 27,
   "metadata": {
    "collapsed": false,
    "scrolled": true
   },
   "outputs": [
    {
     "data": {
      "text/plain": [
       "CompletedProcess(args='convert -layers optimize -loop 0 -delay 10 5soliton_animation/*.png ./5_soliton.gif', returncode=0)"
      ]
     },
     "execution_count": 27,
     "metadata": {},
     "output_type": "execute_result"
    },
    {
     "data": {
      "image/png": "[encoded data removed]",
      "text/plain": [
       "<matplotlib.figure.Figure at 0x7f07e9141128>"
      ]
     },
     "metadata": {},
     "output_type": "display_data"
    }
   ],
   "source": [
    "make_animation_frames(five_solitons, \"5soliton_animation\", \".\", Create_animation=True, time_interval=10,\n",
    "                      t_start=-3.0, t_end=9.5, facecolor='g', alpha=0.6)"
   ]
  },
  {
   "cell_type": "markdown",
   "metadata": {},
   "source": [
    "一応保存機能もあります"
   ]
  },
  {
   "cell_type": "code",
   "execution_count": 28,
   "metadata": {
    "collapsed": false
   },
   "outputs": [],
   "source": [
    "five_solitons.save(\"./5solition.kdv\")"
   ]
  },
  {
   "cell_type": "markdown",
   "metadata": {},
   "source": [
    "もちろん読み込み機能も"
   ]
  },
  {
   "cell_type": "code",
   "execution_count": 29,
   "metadata": {
    "collapsed": true
   },
   "outputs": [],
   "source": [
    "five_solitons.load(\"./5solition.kdv\")"
   ]
  },
  {
   "cell_type": "markdown",
   "metadata": {},
   "source": [
    "以上、簡単に5-ソリトン解の表示を見てきました。<br>\n",
    "\n",
    "後は好きなパラメータでいろいろプロットしてみてください。"
   ]
  },
  {
   "cell_type": "markdown",
   "metadata": {},
   "source": [
    "#### おまけ"
   ]
  },
  {
   "cell_type": "code",
   "execution_count": 30,
   "metadata": {
    "collapsed": false
   },
   "outputs": [
    {
     "name": "stdout",
     "output_type": "stream",
     "text": [
      "15-ソリトン解\n",
      "\t  p_1 = 0.271, p_2 = 1.762, p_3 = 2.554, p_4 = 2.398, p_5 = 1.349, p_6 = 0.325, p_7 = 1.434, p_8 = 1.733, p_9 = 2.239, p_10 = 0.043, p_11 = 0.279, p_12 = 2.013, p_13 = 1.960, p_14 = 2.578, p_15 = 0.976, \n",
      "\t  theta_1 = 0.000, theta_2 = 0.000, theta_3 = 0.000, theta_4 = 0.000, theta_5 = 0.000, theta_6 = 0.000, theta_7 = 0.000, theta_8 = 0.000, theta_9 = 0.000, theta_10 = 0.000, theta_11 = 0.000, theta_12 = 0.000, theta_13 = 0.000, theta_14 = 0.000, theta_15 = 0.000, \n"
     ]
    }
   ],
   "source": [
    "fifteen_solitons = KdV_tau(N=15)\n",
    "fifteen_solitons.set_X_range(-30,30,DeltaX=0.2)\n",
    "fifteen_solitons.setup()"
   ]
  },
  {
   "cell_type": "code",
   "execution_count": 31,
   "metadata": {
    "collapsed": false
   },
   "outputs": [
    {
     "name": "stdout",
     "output_type": "stream",
     "text": [
      "CPU times: user 24.3 s, sys: 23.3 s, total: 47.6 s\n",
      "Wall time: 47.6 s\n"
     ]
    }
   ],
   "source": [
    "%%time\n",
    "t_start = - 5.0\n",
    "t_end = 5.0 + 1e-7\n",
    "Delta_t = 0.2\n",
    "fifteen_solitons.compute_u(list(np.arange(t_start,t_end,Delta_t)))"
   ]
  },
  {
   "cell_type": "code",
   "execution_count": 32,
   "metadata": {
    "collapsed": false
   },
   "outputs": [
    {
     "data": {
      "image/png": "[encoded data removed]",
      "text/plain": [
       "<matplotlib.figure.Figure at 0x7f07e8fdad30>"
      ]
     },
     "metadata": {},
     "output_type": "display_data"
    }
   ],
   "source": [
    "fifteen_solitons.plot(t=-2.0)"
   ]
  },
  {
   "cell_type": "markdown",
   "metadata": {},
   "source": [
    "## 2. 保存量を計算してみる"
   ]
  },
  {
   "cell_type": "markdown",
   "metadata": {},
   "source": [
    "※絵的にはあまり面白くないです"
   ]
  },
  {
   "cell_type": "markdown",
   "metadata": {},
   "source": [
    "#### 復習\n",
    "\n",
    "* $ \\displaystyle Q_1 = \\int^{\\infty}_{-\\infty} dx\\; u(x,t)$\n",
    "\n",
    "* $ \\displaystyle Q_2 = \\int^{\\infty}_{-\\infty} dx\\; u(x,t)^2$\n",
    "\n",
    "* $ \\displaystyle Q_3 = \\int^{\\infty}_{-\\infty} dx\\; \\left( u(x,t)^3 - \\tfrac{1}{2} u_x(x,t)^2 \\right)$\n",
    "\n",
    "* $ \\displaystyle Q_4 = \\int^{\\infty}_{-\\infty} dx\\; \\left( u(x,t)^4 - 2u(x,t)u_x(x,t)^2 + \\tfrac{1}{5} u_{xx}(x,t)^2 \\right)$"
   ]
  },
  {
   "cell_type": "code",
   "execution_count": 33,
   "metadata": {
    "collapsed": true
   },
   "outputs": [],
   "source": [
    "# 微分を計算\n",
    "def _first_derivative(f, Delta):\n",
    "    return ( np.roll(f, shift=-1) - np.roll(f, shift=1) ) / ( 2. * Delta )\n",
    "def _second_derivative(f, Delta):\n",
    "    return ( np.roll(f, shift=-1) + np.roll(f, shift=1) - 2. * f ) / ( Delta ** 2. )"
   ]
  },
  {
   "cell_type": "code",
   "execution_count": 34,
   "metadata": {
    "collapsed": true
   },
   "outputs": [],
   "source": [
    "def compute_four_KdV_conserved_quantities(KdV_solitons):\n",
    "    x_seq = KdV_solitons.x\n",
    "    time_seq = KdV_solitons._time\n",
    "    Delta = KdV_solitons.DeltaX\n",
    "    \n",
    "    charges = []\n",
    "    # xの3階微分が必要なので、端は切り落とす\n",
    "    truncation = np.arange(3,len(x_seq)-3)\n",
    "    for t in time_seq:\n",
    "        u = KdV_solitons._u_evolve[t]\n",
    "        u_x = _first_derivative(u, Delta=Delta)[truncation]\n",
    "        u_xx = _second_derivative(u, Delta=Delta)[truncation]\n",
    "        u = u[truncation]\n",
    "        \n",
    "        q1 = np.sum(u)\n",
    "        q2 = np.sum(u**2)\n",
    "        q3 = np.sum(u**3) - 0.5 * np.sum(u_x**2)\n",
    "        q4 = np.sum(u**4) - 2.0 * np.sum(u*u_x**2) + 0.2 * np.sum(u_xx**2)\n",
    "\n",
    "        charges.append([q1,q2,q3,q4])\n",
    "        \n",
    "    charges = np.array(charges) * Delta\n",
    "    \n",
    "    plt.title(\"KdV charges\")\n",
    "    plt.xlabel(\"time\")\n",
    "    for i,c in enumerate(charges.T):\n",
    "        plt.plot(KdV_solitons._time, c, label=\"$Q_{0}$\".format(i+1))\n",
    "    plt.legend()\n",
    "    \n",
    "    return charges"
   ]
  },
  {
   "cell_type": "markdown",
   "metadata": {},
   "source": [
    "前節で計算した結果から保存量を計算しましょう。ここでは積分を、特に工夫をせずに、単純な和で計算しています。\n",
    "\n",
    "また時間変化をプロットしてみましょう。"
   ]
  },
  {
   "cell_type": "markdown",
   "metadata": {},
   "source": [
    "2-ソリトン解"
   ]
  },
  {
   "cell_type": "code",
   "execution_count": 35,
   "metadata": {
    "collapsed": false
   },
   "outputs": [
    {
     "data": {
      "image/png": "[encoded data removed]",
      "text/plain": [
       "<matplotlib.figure.Figure at 0x7f07e90491d0>"
      ]
     },
     "metadata": {},
     "output_type": "display_data"
    }
   ],
   "source": [
    "KdV_charges = compute_four_KdV_conserved_quantities(two_solitons)"
   ]
  },
  {
   "cell_type": "markdown",
   "metadata": {},
   "source": [
    "3-ソリトン解"
   ]
  },
  {
   "cell_type": "code",
   "execution_count": 36,
   "metadata": {
    "collapsed": false
   },
   "outputs": [
    {
     "data": {
      "image/png": "[encoded data removed]",
      "text/plain": [
       "<matplotlib.figure.Figure at 0x7f07e8f0d470>"
      ]
     },
     "metadata": {},
     "output_type": "display_data"
    }
   ],
   "source": [
    "KdV_charges = compute_four_KdV_conserved_quantities(three_solitons)"
   ]
  },
  {
   "cell_type": "markdown",
   "metadata": {},
   "source": [
    "$Q_4$が真っ直ぐでないのは、数値誤差が効いているためです。<br>\n",
    "参考までに$\\Delta x=0.01$として計算したものが以下です："
   ]
  },
  {
   "cell_type": "code",
   "execution_count": 37,
   "metadata": {
    "collapsed": false
   },
   "outputs": [
    {
     "name": "stdout",
     "output_type": "stream",
     "text": [
      "3-ソリトン解\n",
      "\t  p_1 = 1.200, p_2 = 2.000, p_3 = 2.500, \n",
      "\t  theta_1 = 0.000, theta_2 = 5.000, theta_3 = -15.000, \n"
     ]
    }
   ],
   "source": [
    "three_solitons.set_X_range(-30,40,DeltaX=0.01)\n",
    "three_solitons.setup()\n",
    "t_start = - 3.0\n",
    "t_end = 6.0 + 1e-7\n",
    "Delta_t = 0.1\n",
    "three_solitons.compute_u(list(np.arange(t_start,t_end,Delta_t)))"
   ]
  },
  {
   "cell_type": "code",
   "execution_count": 38,
   "metadata": {
    "collapsed": false
   },
   "outputs": [
    {
     "data": {
      "image/png": "[encoded data removed]",
      "text/plain": [
       "<matplotlib.figure.Figure at 0x7f07e8ee7e10>"
      ]
     },
     "metadata": {},
     "output_type": "display_data"
    }
   ],
   "source": [
    "KdV_charges = compute_four_KdV_conserved_quantities(three_solitons)"
   ]
  },
  {
   "cell_type": "markdown",
   "metadata": {},
   "source": [
    "予想通り、ずれが肉眼では見えないほど小さくなっていますね。"
   ]
  },
  {
   "cell_type": "markdown",
   "metadata": {},
   "source": [
    "4-ソリトン解"
   ]
  },
  {
   "cell_type": "code",
   "execution_count": 39,
   "metadata": {
    "collapsed": false
   },
   "outputs": [
    {
     "data": {
      "image/png": "[encoded data removed]",
      "text/plain": [
       "<matplotlib.figure.Figure at 0x7f07e8dcfb38>"
      ]
     },
     "metadata": {},
     "output_type": "display_data"
    }
   ],
   "source": [
    "KdV_charges = compute_four_KdV_conserved_quantities(four_solitons)"
   ]
  },
  {
   "cell_type": "markdown",
   "metadata": {},
   "source": [
    "5-ソリトン解"
   ]
  },
  {
   "cell_type": "code",
   "execution_count": 40,
   "metadata": {
    "collapsed": false
   },
   "outputs": [
    {
     "data": {
      "image/png": "[encoded data removed]",
      "text/plain": [
       "<matplotlib.figure.Figure at 0x7f07e8c0a860>"
      ]
     },
     "metadata": {},
     "output_type": "display_data"
    }
   ],
   "source": [
    "KdV_charges = compute_four_KdV_conserved_quantities(five_solitons)"
   ]
  },
  {
   "cell_type": "markdown",
   "metadata": {},
   "source": [
    "※5-ソリトンの時刻$t=-4$直前では、ソリトンがはみ出してるため、上手くいっていない事に注意"
   ]
  },
  {
   "cell_type": "markdown",
   "metadata": {
    "collapsed": true
   },
   "source": [
    "## 3. 2-ソリトン解の表式を計算させてみる"
   ]
  },
  {
   "cell_type": "markdown",
   "metadata": {},
   "source": [
    "最後に、2-ソリトン解を$\\tau$関数から計算させてみましょう。"
   ]
  },
  {
   "cell_type": "code",
   "execution_count": 41,
   "metadata": {
    "collapsed": true
   },
   "outputs": [],
   "source": [
    "import sympy as sym\n",
    "from sympy import exp, log\n",
    "# インラインで綺麗に表示\n",
    "from sympy import init_printing\n",
    "init_printing()"
   ]
  },
  {
   "cell_type": "markdown",
   "metadata": {},
   "source": [
    "準備"
   ]
  },
  {
   "cell_type": "code",
   "execution_count": 42,
   "metadata": {
    "collapsed": true
   },
   "outputs": [],
   "source": [
    "x = sym.symbols(\"x\")\n",
    "t = sym.symbols(\"t\")\n",
    "N = 2\n",
    "for i in range(1,N+1):\n",
    "    exec(\"p{0} = sym.symbols('p_{0}')\".format(i))\n",
    "    exec(\"th{0} = sym.symbols('theta_{0}')\".format(i))\n",
    "    exec(\"eta{0} = p{0} * x - p{0} ** 3 * t - th{0}\".format(i))\n",
    "A = (p1 - p2)**2 / (p1 + p2)**2"
   ]
  },
  {
   "cell_type": "markdown",
   "metadata": {},
   "source": [
    "2-ソリトン解の$\\tau$関数"
   ]
  },
  {
   "cell_type": "code",
   "execution_count": 43,
   "metadata": {
    "collapsed": false
   },
   "outputs": [
    {
     "data": {
      "image/png": "[encoded data removed]",
      "text/latex": [
       "$$\\frac{\\left(p_{1} - p_{2}\\right)^{2}}{\\left(p_{1} + p_{2}\\right)^{2}} e^{- p_{1}^{3} t + p_{1} x - p_{2}^{3} t + p_{2} x - \\theta_{1} - \\theta_{2}} + e^{- p_{1}^{3} t + p_{1} x - \\theta_{1}} + e^{- p_{2}^{3} t + p_{2} x - \\theta_{2}} + 1$$"
      ],
      "text/plain": [
       "                3              3                                              \n",
       "         2  - p₁ ⋅t + p₁⋅x - p₂ ⋅t + p₂⋅x - θ₁ - θ₂        3                  \n",
       "(p₁ - p₂) ⋅ℯ                                           - p₁ ⋅t + p₁⋅x - θ₁    \n",
       "─────────────────────────────────────────────────── + ℯ                    + ℯ\n",
       "                              2                                               \n",
       "                     (p₁ + p₂)                                                \n",
       "\n",
       "                       \n",
       "    3                  \n",
       "- p₂ ⋅t + p₂⋅x - θ₂    \n",
       "                    + 1\n",
       "                       \n",
       "                       "
      ]
     },
     "execution_count": 43,
     "metadata": {},
     "output_type": "execute_result"
    }
   ],
   "source": [
    "tau = 1 + exp(eta1) + exp(eta2) + A * exp(eta1+eta2)\n",
    "tau"
   ]
  },
  {
   "cell_type": "markdown",
   "metadata": {},
   "source": [
    "$u(x,t)$を計算"
   ]
  },
  {
   "cell_type": "code",
   "execution_count": 44,
   "metadata": {
    "collapsed": false
   },
   "outputs": [
    {
     "data": {
      "image/png": "[encoded data removed]",
      "text/latex": [
       "$$\\frac{1}{\\frac{\\left(p_{1} - p_{2}\\right)^{2}}{\\left(p_{1} + p_{2}\\right)^{2}} e^{- p_{1}^{3} t + p_{1} x - p_{2}^{3} t + p_{2} x - \\theta_{1} - \\theta_{2}} + e^{- p_{1}^{3} t + p_{1} x - \\theta_{1}} + e^{- p_{2}^{3} t + p_{2} x - \\theta_{2}} + 1} \\left(2 p_{1}^{2} e^{- p_{1}^{3} t + p_{1} x - \\theta_{1}} + 2 p_{2}^{2} e^{- p_{2}^{3} t + p_{2} x - \\theta_{2}} + 2 \\left(p_{1} - p_{2}\\right)^{2} e^{- p_{1}^{3} t + p_{1} x - p_{2}^{3} t + p_{2} x - \\theta_{1} - \\theta_{2}} - \\frac{2 \\left(p_{1} e^{- p_{1}^{3} t + p_{1} x - \\theta_{1}} + p_{2} e^{- p_{2}^{3} t + p_{2} x - \\theta_{2}} + \\frac{\\left(p_{1} - p_{2}\\right)^{2}}{p_{1} + p_{2}} e^{- p_{1}^{3} t + p_{1} x - p_{2}^{3} t + p_{2} x - \\theta_{1} - \\theta_{2}}\\right)^{2}}{\\frac{\\left(p_{1} - p_{2}\\right)^{2}}{\\left(p_{1} + p_{2}\\right)^{2}} e^{- p_{1}^{3} t + p_{1} x - p_{2}^{3} t + p_{2} x - \\theta_{1} - \\theta_{2}} + e^{- p_{1}^{3} t + p_{1} x - \\theta_{1}} + e^{- p_{2}^{3} t + p_{2} x - \\theta_{2}} + 1}\\right)$$"
      ],
      "text/plain": [
       "  ⎛                                                                           \n",
       "  ⎜                                                                           \n",
       "  ⎜                                                                           \n",
       "  ⎜                                                                           \n",
       "  ⎜         3                          3                                 3    \n",
       "  ⎜  2  - p₁ ⋅t + p₁⋅x - θ₁     2  - p₂ ⋅t + p₂⋅x - θ₂            2  - p₁ ⋅t +\n",
       "2⋅⎜p₁ ⋅ℯ                    + p₂ ⋅ℯ                    + (p₁ - p₂) ⋅ℯ         \n",
       "  ⎜                                                                           \n",
       "  ⎜                                                                           \n",
       "  ⎜                                                                           \n",
       "  ⎜                                                                           \n",
       "  ⎜                                                                           \n",
       "  ⎝                                                                           \n",
       "──────────────────────────────────────────────────────────────────────────────\n",
       "                                                                          3   \n",
       "                                                                   2  - p₁ ⋅t \n",
       "                                                          (p₁ - p₂) ⋅ℯ        \n",
       "                                                          ────────────────────\n",
       "                                                                              \n",
       "                                                                              \n",
       "\n",
       "                                                                              \n",
       "                                 ⎛                                            \n",
       "                                 ⎜        3                         3         \n",
       "                                 ⎜    - p₁ ⋅t + p₁⋅x - θ₁       - p₂ ⋅t + p₂⋅x\n",
       "          3                      ⎜p₁⋅ℯ                    + p₂⋅ℯ              \n",
       " p₁⋅x - p₂ ⋅t + p₂⋅x - θ₁ - θ₂   ⎝                                            \n",
       "                               - ─────────────────────────────────────────────\n",
       "                                                   3              3           \n",
       "                                            2  - p₁ ⋅t + p₁⋅x - p₂ ⋅t + p₂⋅x -\n",
       "                                   (p₁ - p₂) ⋅ℯ                               \n",
       "                                   ───────────────────────────────────────────\n",
       "                                                                 2            \n",
       "                                                        (p₁ + p₂)             \n",
       "──────────────────────────────────────────────────────────────────────────────\n",
       "           3                                                                  \n",
       "+ p₁⋅x - p₂ ⋅t + p₂⋅x - θ₁ - θ₂        3                      3               \n",
       "                                   - p₁ ⋅t + p₁⋅x - θ₁    - p₂ ⋅t + p₂⋅x - θ₂ \n",
       "─────────────────────────────── + ℯ                    + ℯ                    \n",
       "          2                                                                   \n",
       " (p₁ + p₂)                                                                    \n",
       "\n",
       "                                                            2⎞\n",
       "                        3              3                   ⎞ ⎟\n",
       "                 2  - p₁ ⋅t + p₁⋅x - p₂ ⋅t + p₂⋅x - θ₁ - θ₂⎟ ⎟\n",
       " - θ₂   (p₁ - p₂) ⋅ℯ                                       ⎟ ⎟\n",
       "      + ───────────────────────────────────────────────────⎟ ⎟\n",
       "                              p₁ + p₂                      ⎠ ⎟\n",
       "─────────────────────────────────────────────────────────────⎟\n",
       "                                                             ⎟\n",
       " θ₁ - θ₂        3                      3                     ⎟\n",
       "            - p₁ ⋅t + p₁⋅x - θ₁    - p₂ ⋅t + p₂⋅x - θ₂       ⎟\n",
       "──────── + ℯ                    + ℯ                    + 1   ⎟\n",
       "                                                             ⎟\n",
       "                                                             ⎠\n",
       "──────────────────────────────────────────────────────────────\n",
       "                                                              \n",
       "                                                              \n",
       "                                                              \n",
       "+ 1                                                           \n",
       "                                                              \n",
       "                                                              "
      ]
     },
     "execution_count": 44,
     "metadata": {},
     "output_type": "execute_result"
    }
   ],
   "source": [
    "u = 2*sym.diff(log(tau), x, 2)\n",
    "u"
   ]
  },
  {
   "cell_type": "markdown",
   "metadata": {},
   "source": [
    "パラメータを数値としてセット"
   ]
  },
  {
   "cell_type": "code",
   "execution_count": 45,
   "metadata": {
    "collapsed": false
   },
   "outputs": [
    {
     "data": {
      "image/png": "[encoded data removed]",
      "text/latex": [
       "$$\\frac{1}{0.04 e^{- 4.375 t + 2.5 x} + e^{- 3.375 t + 1.5 x} + e^{- 1.0 t + 1.0 x} + 1} \\left(- \\frac{2 \\left(0.1 e^{- 4.375 t + 2.5 x} + 1.5 e^{- 3.375 t + 1.5 x} + 1.0 e^{- 1.0 t + 1.0 x}\\right)^{2}}{0.04 e^{- 4.375 t + 2.5 x} + e^{- 3.375 t + 1.5 x} + e^{- 1.0 t + 1.0 x} + 1} + 0.5 e^{- 4.375 t + 2.5 x} + 4.5 e^{- 3.375 t + 1.5 x} + 2.0 e^{- 1.0 t + 1.0 x}\\right)$$"
      ],
      "text/plain": [
       "  ⎛                                                                       2   \n",
       "  ⎜  ⎛     -4.375⋅t + 2.5⋅x        -3.375⋅t + 1.5⋅x        -1.0⋅t + 1.0⋅x⎞    \n",
       "  ⎜  ⎝0.1⋅ℯ                 + 1.5⋅ℯ                 + 1.0⋅ℯ              ⎠    \n",
       "2⋅⎜- ────────────────────────────────────────────────────────────────────── + \n",
       "  ⎜           -4.375⋅t + 2.5⋅x    -3.375⋅t + 1.5⋅x    -1.0⋅t + 1.0⋅x          \n",
       "  ⎝     0.04⋅ℯ                 + ℯ                 + ℯ               + 1      \n",
       "──────────────────────────────────────────────────────────────────────────────\n",
       "                                                -4.375⋅t + 2.5⋅x    -3.375⋅t +\n",
       "                                          0.04⋅ℯ                 + ℯ          \n",
       "\n",
       "                                                                     ⎞\n",
       "                                                                     ⎟\n",
       "      -4.375⋅t + 2.5⋅x         -3.375⋅t + 1.5⋅x        -1.0⋅t + 1.0⋅x⎟\n",
       "0.25⋅ℯ                 + 2.25⋅ℯ                 + 1.0⋅ℯ              ⎟\n",
       "                                                                     ⎟\n",
       "                                                                     ⎠\n",
       "──────────────────────────────────────────────────────────────────────\n",
       " 1.5⋅x    -1.0⋅t + 1.0⋅x                                              \n",
       "       + ℯ               + 1                                          "
      ]
     },
     "execution_count": 45,
     "metadata": {},
     "output_type": "execute_result"
    }
   ],
   "source": [
    "u_set_params = u.subs([(p1, 1.), (p2, 1.5), (th1, 0.), (th2, 0.)])\n",
    "u_set_params"
   ]
  },
  {
   "cell_type": "markdown",
   "metadata": {},
   "source": [
    "時間を指定して概形をプロット"
   ]
  },
  {
   "cell_type": "code",
   "execution_count": 46,
   "metadata": {
    "collapsed": false
   },
   "outputs": [
    {
     "data": {
      "image/png": "[encoded data removed]",
      "text/plain": [
       "<matplotlib.figure.Figure at 0x7f07e91397f0>"
      ]
     },
     "metadata": {},
     "output_type": "display_data"
    }
   ],
   "source": [
    "u_set_t = u_set_params.subs([(t,-5)])\n",
    "sym.plot(u_set_t, (x,-30,30));"
   ]
  },
  {
   "cell_type": "markdown",
   "metadata": {},
   "source": [
    "まあ同じ事をしているので当たり前ですが、2-ソリトン解ですね。"
   ]
  }
 ],
 "metadata": {
  "kernelspec": {
   "display_name": "Python 3",
   "language": "python",
   "name": "python3"
  },
  "language_info": {
   "codemirror_mode": {
    "name": "ipython",
    "version": 3
   },
   "file_extension": ".py",
   "mimetype": "text/x-python",
   "name": "python",
   "nbconvert_exporter": "python",
   "pygments_lexer": "ipython3",
   "version": "3.6.0"
  }
 },
 "nbformat": 4,
 "nbformat_minor": 2
}
